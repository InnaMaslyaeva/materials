{
 "cells": [
  {
   "cell_type": "code",
   "execution_count": 17,
   "metadata": {},
   "outputs": [
    {
     "name": "stdout",
     "output_type": "stream",
     "text": [
      "/home/im/Desktop/new.py\n",
      "Hello from caller\n",
      "Bye from caller\n",
      "* 0\n",
      "Файл new.py успешно запущен \n"
     ]
    },
    {
     "name": "stderr",
     "output_type": "stream",
     "text": [
      "python3: can't open file '/home/im/Desktop/2024-03-22': [Errno 2] No such file or directory\n"
     ]
    },
    {
     "data": {
      "text/plain": [
       "'\\n# /home/im/new.py\\nimport os\\nimport sys\\nprint(\"Hello from caller\")\\nos.spawnv(os.P_WAIT, sys.executable, [\"python3\"] + sys.argv[1:])\\nprint(\"Bye from caller\")'"
      ]
     },
     "execution_count": 17,
     "metadata": {},
     "output_type": "execute_result"
    }
   ],
   "source": [
    "# 2024.03.21 HW 25\n",
    "\n",
    "''' 1. Напишите программу, которая принимает в качестве аргумента \n",
    "командной строки путь к файлу .py и запускает его. \n",
    "При запуске файла программа должна выводить сообщение \n",
    "\"Файл <имя файла> успешно запущен\". Если файл не существует \n",
    "или не может быть запущен, программа должна вывести \n",
    "соответствующее сообщение об ошибке.'''\n",
    "import sys\n",
    "import argparse\n",
    "import os\n",
    "\n",
    "def run_python_file(arg_path, file_name):\n",
    "    try:\n",
    "        # 1 выбираем директорию         \n",
    "        os.chdir(arg_path)\n",
    "        # 2 \n",
    "        path = os.path.join(arg_path, file_name)  \n",
    "        print(path)    \n",
    "        if path: print('*', os.spawnv(os.P_WAIT, sys.executable, [\"python3\", path, '2024-03-22']))\n",
    "        # 3         \n",
    "        print(f'Файл {file_name} успешно запущен ')\n",
    "\n",
    "    except FileNotFoundError :\n",
    "        print(f' Error: {file_name} FileNotFoundError ')\n",
    "    \n",
    "arg_path = '/home/im/Desktop'\n",
    "file_name = 'new.py'\n",
    "run_python_file(arg_path, file_name)\n",
    "'''\n",
    "# файл /home/im/new.py  \n",
    "import os\n",
    "import sys\n",
    "print(\"Hello from caller\")\n",
    "os.spawnv(os.P_WAIT, sys.executable, [\"python3\"] + sys.argv[1:])\n",
    "print(\"Bye from caller\")''' "
   ]
  },
  {
   "cell_type": "code",
   "execution_count": 7,
   "metadata": {},
   "outputs": [
    {
     "name": "stdout",
     "output_type": "stream",
     "text": [
      "\n",
      "  directory new2_newfolder : \n",
      " file module os Screenshot from 2024-03-21 11-28-09.png \n",
      " file парсер Screenshot from 2024-03-21 11-23-14.png \n",
      " file data1.json \n",
      " file module path Screenshot from 2024-03-21 11-41-26.png \n",
      "\n",
      "  directory new_newfolder : \n",
      " file module os Screenshot from 2024-03-21 11-28-09.png \n",
      " file парсер Screenshot from 2024-03-21 11-23-14.png \n",
      " file data1.json \n",
      " file module path Screenshot from 2024-03-21 11-41-26.png \n"
     ]
    }
   ],
   "source": [
    "'''2. Напишите программу, которая принимает в качестве аргумента \n",
    "командной строки путь к директории и выводит список всех файлов \n",
    "и поддиректорий внутри этой директории. \n",
    "Для этой задачи используйте модуль os и его функцию walk. \n",
    "Программа должна выводить полный путь к каждому файлу и директории.'''\n",
    "import os\n",
    "\n",
    "# обход папки newfolder на Рабочем столе и проверка ее содержимого \n",
    "def process_directory(directory):\n",
    "    for dir_path, dir_name, file_name in os.walk(directory):\n",
    "        #print(dir_path, dir_name, file_name)\n",
    "        for dir_nameX in dir_name:\n",
    "            print(f'\\n  directory {dir_nameX} : ')\n",
    "            for file_nameX in file_name:\n",
    "                print(f' file {file_nameX} ')\n",
    "\n",
    "start_directory = '/home/im/Desktop/newfolder' # input('input path: ')\n",
    "process_directory(start_directory)"
   ]
  },
  {
   "cell_type": "code",
   "execution_count": null,
   "metadata": {},
   "outputs": [],
   "source": [
    "# import argparse\n",
    "\n",
    "# parser = argparse.ArgumentParser()\n",
    "\n",
    "# parser.add_argument('--input', help='/home/im/Desktop/write_data.py')\n",
    "# #parser.add_argument('--output', help='Path to output file')\n",
    "# args = parser.parse_args()\n",
    "# print(args.input)\n",
    "# #print(args.output)"
   ]
  }
 ],
 "metadata": {
  "kernelspec": {
   "display_name": "Python 3",
   "language": "python",
   "name": "python3"
  },
  "language_info": {
   "codemirror_mode": {
    "name": "ipython",
    "version": 3
   },
   "file_extension": ".py",
   "mimetype": "text/x-python",
   "name": "python",
   "nbconvert_exporter": "python",
   "pygments_lexer": "ipython3",
   "version": "3.10.12"
  }
 },
 "nbformat": 4,
 "nbformat_minor": 2
}
