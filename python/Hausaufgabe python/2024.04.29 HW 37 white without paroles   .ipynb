{
 "cells": [
  {
   "cell_type": "code",
   "execution_count": 10,
   "metadata": {},
   "outputs": [
    {
     "name": "stdout",
     "output_type": "stream",
     "text": [
      " existing tables: [('product',), ('sales',), ('users',)]\n",
      " выбор: product, True\n",
      " (1, 'first', 20) \n",
      " (2, 'second', 5) \n",
      " (3, 'third', 50) \n",
      " (4, 'fourth', 16) \n"
     ]
    }
   ],
   "source": [
    "\n",
    "# 2024.04.29 HW 37\n",
    "'''1 В базе данных ich_edit три таблицы. Users с полями (id, name, age), \n",
    "Products с полями (pid, prod, quantity) и Sales с полями (sid, id, pid).\n",
    "Программа должна запросить у пользователя название таблицы и \n",
    "вывести все ее строки или сообщение, что такой таблицы нет.'''\n",
    "\n",
    "import mysql.connector\n",
    "\n",
    "def show_information():\n",
    "    dbconfig = {'host': 'xxxxxxxxxxxxxxxx.amazonaws.com',\n",
    "            'user': 'xxxxxxxxx',\n",
    "            'password': 'xxxxxxx',\n",
    "            'database': 'xxxxxxxxxxxx'}\n",
    "\n",
    "    connection = mysql.connector.connect(**dbconfig)\n",
    "    cursor = connection.cursor()\n",
    "\n",
    "    cursor.execute(\"show tables\")\n",
    "    res = cursor.fetchall()\n",
    "    print(f' existing tables: {res}')\n",
    "    choice = input(f' выберите таблицу из списка: {res}')   \n",
    "    f = any(choice == x[0] for x in res  )\n",
    "    print(f' выбор: {choice}, { f}' )\n",
    "\n",
    "    if f:  # выводим таблицу\n",
    "        cursor.execute(f\"\"\"SELECT \n",
    "                    * \n",
    "                    FROM {choice}\"\"\")\n",
    "        result_table = cursor.fetchall()\n",
    "        for line in result_table :\n",
    "            print( f' {line} ' )    \n",
    "    else: \n",
    "        print(\"Введено некорректное значение.\")    \n",
    "        \n",
    "show_information()\n",
    "#cursor.close()\n",
    "#connection.close()"
   ]
  },
  {
   "cell_type": "code",
   "execution_count": 1,
   "metadata": {},
   "outputs": [
    {
     "name": "stdout",
     "output_type": "stream",
     "text": [
      "1-2 existing tables: [('product',), ('sales',), ('users',)]\n",
      "4 покупатели: customers ={'Andrey': 6, 'John': 195, 'Petr': 10, 'Jack': 11, 'Alice': 196, 'Bob': 185, 'Alex': 135, 'Frank': 15, 'Elena': 109, 'Max': 117, 'Anna': 118, 'Jenna': 119, 'Anett': 120, 'Sarah': 122, 'Noah': 136, 'Ariel': 137, 'Solomon': 125, 'Ivan': 126, 'Ali': 127, 'Bosi': 128, 'Hanna': 129, 'Lusya': 130, 'Ira': 131, 'Oliver': 132, 'Lulu': 133, 'Ruslan': 134, 'Olga': 138, 'Mikhail': 139, 'Ruslan2': 140, 'Mihail': 141, 'Svetlana': 154, 'Katerina': 143, 'Mashka': 144, 'Vova': 150, 'Petia': 151, 'Misha': 152, 'Dima': 153, 'Johny': 179, 'Bobby': 197} \n",
      " \n",
      "result: for Bosi\n"
     ]
    }
   ],
   "source": [
    "''' 2 В базе данных ich_edit три таблицы. Users с полями (id, name, age), \n",
    "Products с полями (pid, prod, quantity) и Sales с полями (sid, id, pid).\n",
    "Программа должна вывести все имена из таблицы users,\n",
    "дать пользователю выбрать одно из них и вывести все покупки этого пользователя.'''\n",
    "\n",
    "import mysql.connector\n",
    "\n",
    "def show_information():\n",
    "    # 1 connecting\n",
    "    dbconfig = {'host': 'xxxxxxxxxxxxxxxxxxxxxxxx.amazonaws.com',\n",
    "            'user': 'xxxxxxxxxxxxxxx',\n",
    "            'password': 'xxxxx',\n",
    "            'database': 'xxxxxxxxxxx'}\n",
    "\n",
    "    connection = mysql.connector.connect(**dbconfig)\n",
    "    cursor = connection.cursor()\n",
    "    \n",
    "    # 2 db\n",
    "    cursor.execute(\"show tables\")\n",
    "    res = cursor.fetchall()\n",
    "    print(f'1-2 existing tables: {res}')\n",
    "\n",
    "    # 4\n",
    "    cursor.execute(f\"SELECT * FROM users\")\n",
    "    result_table = cursor.fetchall()    \n",
    "    names = set()\n",
    "    customers = dict()\n",
    "    for line in result_table :\n",
    "        names.add(line[1])\n",
    "        customers[line[1]] = int(line[0])\n",
    "        #print( f' {line} ' )\n",
    "    print(f'4 покупатели: {customers =} \\n ') \n",
    "\n",
    "    # 5 выбор покупателя    \n",
    "    choice = input(f' выберите покупателя из списка: {names}')\n",
    "       \n",
    "    cursor.execute( \"\"\"\n",
    "        SELECT \n",
    "            users.id, sales.sid, product.pid, product.prod, product.quantity\n",
    "        FROM users\n",
    "            JOIN sales on sales.id = users.id\n",
    "            JOIN product on product.pid = sales.pid\n",
    "        WHERE users.name = %s \n",
    "        \"\"\",\n",
    "        (choice,)    )\n",
    "    \n",
    "    result_product = cursor.fetchall()\n",
    "    print(f'result: for {choice}')\n",
    "    for line in result_product :\n",
    "        print(line)    \n",
    "        \n",
    "show_information()\n",
    "#cursor.close()\n",
    "#connection.close()"
   ]
  }
 ],
 "metadata": {
  "kernelspec": {
   "display_name": "Python 3",
   "language": "python",
   "name": "python3"
  },
  "language_info": {
   "codemirror_mode": {
    "name": "ipython",
    "version": 3
   },
   "file_extension": ".py",
   "mimetype": "text/x-python",
   "name": "python",
   "nbconvert_exporter": "python",
   "pygments_lexer": "ipython3",
   "version": "3.10.12"
  }
 },
 "nbformat": 4,
 "nbformat_minor": 2
}
