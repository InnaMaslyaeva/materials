{
 "cells": [
  {
   "cell_type": "code",
   "execution_count": 1,
   "metadata": {},
   "outputs": [
    {
     "name": "stdout",
     "output_type": "stream",
     "text": [
      "Сумма элементов в матрице: 45\n"
     ]
    }
   ],
   "source": [
    "# 2024.02.08 HW 16\n",
    "''' 1 Напишите программу, которая принимает матрицу (вложенный список) от пользователя и\n",
    "находит сумму всех элементов в матрице. Используйте вложенные списки и циклы для\n",
    "обхода элементов матрицы.\n",
    "Пример матрицы: [[1, 2, 3], [4, 5, 6], [7, 8, 9]]\n",
    "Пример вывода: Сумма элементов в матрице: 45 '''\n",
    "\n",
    "def func(string):\n",
    "    print(f'Сумма элементов в матрице: {sum([sum([ i for i in sub_list ]) for sub_list in string])}')\n",
    "\n",
    "string = [[1, 2, 3], [4, 5, 6], [7, 8, 9]] # input('Введите вложенный список: ')\n",
    "func(string)\n"
   ]
  },
  {
   "cell_type": "code",
   "execution_count": 17,
   "metadata": {},
   "outputs": [
    {
     "name": "stdout",
     "output_type": "stream",
     "text": [
      "[8, 5, 3, 2, 1]\n"
     ]
    }
   ],
   "source": [
    "''' 2 Напишите программу, которая принимает список чисел от пользователя и сортирует его в\n",
    "порядке убывания, используя метод sort() и параметр reverse=True. Выведите\n",
    "отсортированный список на экран.\n",
    "Пример вывода:\n",
    "Введите список чисел, разделенных пробелами: 5 2 8 1 3\n",
    "Отсортированный список чисел: [8, 5, 3, 2, 1] '''\n",
    "\n",
    "def sorting( string ):\n",
    "    string = [ int(el) for el in string.split() ]\n",
    "    string.sort( reverse = True )    \n",
    "    return string\n",
    "\n",
    "string = ' 5 2 8 1 3' # input('Введите список чисел, разделенных пробелами: ')\n",
    "print( sorting(string) ) \n"
   ]
  }
 ],
 "metadata": {
  "kernelspec": {
   "display_name": "Python 3",
   "language": "python",
   "name": "python3"
  },
  "language_info": {
   "codemirror_mode": {
    "name": "ipython",
    "version": 3
   },
   "file_extension": ".py",
   "mimetype": "text/x-python",
   "name": "python",
   "nbconvert_exporter": "python",
   "pygments_lexer": "ipython3",
   "version": "3.10.12"
  }
 },
 "nbformat": 4,
 "nbformat_minor": 2
}
