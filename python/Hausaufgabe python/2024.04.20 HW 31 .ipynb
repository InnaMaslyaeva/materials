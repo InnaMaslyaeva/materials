{
 "cells": [
  {
   "cell_type": "code",
   "execution_count": 7,
   "metadata": {},
   "outputs": [
    {
     "name": "stdout",
     "output_type": "stream",
     "text": [
      "Привет, Анна! Тебе 25 лет.\n"
     ]
    },
    {
     "ename": "TypeError",
     "evalue": "Аргумент 25 имеет неправильный тип <class 'str'>",
     "output_type": "error",
     "traceback": [
      "\u001b[0;31m---------------------------------------------------------------------------\u001b[0m",
      "\u001b[0;31mTypeError\u001b[0m                                 Traceback (most recent call last)",
      "Cell \u001b[0;32mIn[7], line 42\u001b[0m\n\u001b[1;32m     39\u001b[0m     \u001b[38;5;28mprint\u001b[39m(\u001b[38;5;124mf\u001b[39m\u001b[38;5;124m\"\u001b[39m\u001b[38;5;124mПривет, \u001b[39m\u001b[38;5;132;01m{\u001b[39;00mname\u001b[38;5;132;01m}\u001b[39;00m\u001b[38;5;124m! Тебе \u001b[39m\u001b[38;5;132;01m{\u001b[39;00mage\u001b[38;5;132;01m}\u001b[39;00m\u001b[38;5;124m лет.\u001b[39m\u001b[38;5;124m\"\u001b[39m)\n\u001b[1;32m     41\u001b[0m \u001b[38;5;28;01mfor\u001b[39;00m element \u001b[38;5;129;01min\u001b[39;00m [\u001b[38;5;241m25\u001b[39m, \u001b[38;5;124m\"\u001b[39m\u001b[38;5;124mАнна\u001b[39m\u001b[38;5;124m\"\u001b[39m], [\u001b[38;5;124m\"\u001b[39m\u001b[38;5;124m25\u001b[39m\u001b[38;5;124m\"\u001b[39m, \u001b[38;5;124m\"\u001b[39m\u001b[38;5;124mАнна\u001b[39m\u001b[38;5;124m\"\u001b[39m]:\n\u001b[0;32m---> 42\u001b[0m     \u001b[43mgreet\u001b[49m\u001b[43m(\u001b[49m\u001b[43melement\u001b[49m\u001b[43m[\u001b[49m\u001b[38;5;241;43m0\u001b[39;49m\u001b[43m]\u001b[49m\u001b[43m,\u001b[49m\u001b[43m \u001b[49m\u001b[43melement\u001b[49m\u001b[43m[\u001b[49m\u001b[38;5;241;43m1\u001b[39;49m\u001b[43m]\u001b[49m\u001b[43m)\u001b[49m \n",
      "Cell \u001b[0;32mIn[7], line 31\u001b[0m, in \u001b[0;36mvalidate_args.<locals>.decorator.<locals>.wrapper\u001b[0;34m(*args, **kw)\u001b[0m\n\u001b[1;32m     29\u001b[0m \u001b[38;5;28;01mfor\u001b[39;00m t, arg \u001b[38;5;129;01min\u001b[39;00m \u001b[38;5;28mzip\u001b[39m(types, args):\n\u001b[1;32m     30\u001b[0m     \u001b[38;5;28;01mif\u001b[39;00m \u001b[38;5;129;01mnot\u001b[39;00m \u001b[38;5;28misinstance\u001b[39m(arg, t):\n\u001b[0;32m---> 31\u001b[0m         \u001b[38;5;28;01mraise\u001b[39;00m \u001b[38;5;167;01mTypeError\u001b[39;00m(\u001b[38;5;124mf\u001b[39m\u001b[38;5;124m\"\u001b[39m\u001b[38;5;124mАргумент \u001b[39m\u001b[38;5;132;01m{\u001b[39;00marg\u001b[38;5;132;01m}\u001b[39;00m\u001b[38;5;124m имеет неправильный тип \u001b[39m\u001b[38;5;132;01m{\u001b[39;00m\u001b[38;5;28mtype\u001b[39m(arg)\u001b[38;5;132;01m}\u001b[39;00m\u001b[38;5;124m\"\u001b[39m)\n\u001b[1;32m     32\u001b[0m \u001b[38;5;28;01mreturn\u001b[39;00m func(\u001b[38;5;241m*\u001b[39margs, \u001b[38;5;241m*\u001b[39m\u001b[38;5;241m*\u001b[39mkw)\n",
      "\u001b[0;31mTypeError\u001b[0m: Аргумент 25 имеет неправильный тип <class 'str'>"
     ]
    }
   ],
   "source": [
    "# 2024.04.12 HW 31\n",
    "'''\n",
    "1. Напишите декоратор validate_args, который будет \n",
    "проверять типы аргументов функции и выводить сообщение \n",
    "об ошибке, если переданы аргументы неправильного типа. \n",
    "Декоратор должен принимать ожидаемые типы аргументов \n",
    "в качестве параметров.\n",
    "Пример использования:\n",
    "@validate_args(int, str)\n",
    "def greet(age, name):\n",
    "    print(f\"Привет, {name}! Тебе {age} лет.\")\n",
    "\n",
    "greet(25, \"Анна\")  # Все аргументы имеют правильные типы\n",
    "greet(\"25\", \"Анна\")  # Возникнет исключение TypeError\n",
    "\n",
    "Ожидаемый вывод:\n",
    "Привет, Анна! Тебе 25 лет.\n",
    "TypeError: Аргумент 25 имеет неправильный тип <class 'str'>. \n",
    "Ожидается <class 'int'>. '''\n",
    "\n",
    "import functools \n",
    "\n",
    "def validate_args(*types):\n",
    "\n",
    "    def decorator(func):\n",
    "        @functools.wraps(func)\n",
    "        def wrapper(*args, **kw):\n",
    "\n",
    "            for t, arg in zip(types, args):\n",
    "                if not isinstance(arg, t):\n",
    "                    raise TypeError(f\"Аргумент {arg} имеет неправильный тип {type(arg)}\")\n",
    "            return func(*args, **kw)\n",
    "        \n",
    "        return wrapper\n",
    "    return decorator\n",
    "\n",
    "@validate_args(int, str)\n",
    "def greet(age, name):\n",
    "    print(f\"Привет, {name}! Тебе {age} лет.\")\n",
    "\n",
    "for element in [25, \"Анна\"], [\"25\", \"Анна\"]:\n",
    "    greet(element[0], element[1]) "
   ]
  }
 ],
 "metadata": {
  "kernelspec": {
   "display_name": "Python 3",
   "language": "python",
   "name": "python3"
  },
  "language_info": {
   "codemirror_mode": {
    "name": "ipython",
    "version": 3
   },
   "file_extension": ".py",
   "mimetype": "text/x-python",
   "name": "python",
   "nbconvert_exporter": "python",
   "pygments_lexer": "ipython3",
   "version": "3.10.12"
  }
 },
 "nbformat": 4,
 "nbformat_minor": 2
}
