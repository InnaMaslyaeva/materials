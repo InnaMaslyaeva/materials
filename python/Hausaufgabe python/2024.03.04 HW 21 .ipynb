{
 "cells": [
  {
   "cell_type": "code",
   "execution_count": 65,
   "metadata": {},
   "outputs": [
    {
     "name": "stdout",
     "output_type": "stream",
     "text": [
      "sed: 2\n",
      "Lorem: 1\n"
     ]
    }
   ],
   "source": [
    "# 2024.03.04 HW 21\n",
    "'''\n",
    "1. Напишите программу, которая подсчитывает количество вхождений \n",
    "каждого слова в тексте и выводит на экран наиболее часто \n",
    "встречающиеся слова. Для решения задачи используйте класс Counter \n",
    "из модуля collections. \n",
    "Создайте функцию count_words, которая принимает текст в качестве аргумента \n",
    "и возвращает словарь с количеством вхождений каждого слова. \n",
    "Выведите наиболее часто встречающиеся слова и их количество.\n",
    "Пример вывода:\n",
    "Введенный текст: Lorem ipsum dolor sit amet, consectetur adipiscing elit. Sed sed lacinia est.\n",
    "sed: 2\n",
    "Lorem: 1 '''\n",
    "\n",
    "from collections import Counter\n",
    "\n",
    "def count_words( my_string ):\n",
    "    cnt_word = Counter(my_string.lower().split())     \n",
    "    return cnt_word\n",
    "\n",
    "def words_output( data ):\n",
    "    i = 0\n",
    "    words = []\n",
    "    for i in range(max(value for key, value in data.items())+1, 0,-1):\n",
    "        for key, value in data.items():\n",
    "            if i == value: \n",
    "                d = dict()                      \n",
    "                d[(key*(key in my_string) + (key.title() in my_string)*key.title())[:len(key):]] = value            \n",
    "                words.append(d)\n",
    "                break        \n",
    "    #print(f' {words=} ')\n",
    "    return words\n",
    "\n",
    "my_string = 'Lorem ipsum dolor sit amet, consectetur adipiscing elit. Sed sed lacinia est.'\n",
    "#my_string = 'Выведите наиболее часто встречающиеся слова и их количество.'\n",
    "#my_string = 'Для решения задачи используйте задачи класс Counter Класс из модуля задачи collections.'\n",
    "\n",
    "data = count_words( my_string )\n",
    "words = words_output( data )  \n",
    "\n",
    "for el in words:\n",
    "    for key, value in el.items():\n",
    "        print( f'{key}: {value}' )"
   ]
  },
  {
   "cell_type": "code",
   "execution_count": 58,
   "metadata": {},
   "outputs": [
    {
     "name": "stdout",
     "output_type": "stream",
     "text": [
      " name: Alice, Age: 25, City: New York\n",
      " name: Bob, Age: 30, City: London\n",
      " name: Carol, Age: 35, City: Paris\n"
     ]
    }
   ],
   "source": [
    "''' 2. Напишите программу, которая создает именованный кортеж Person \n",
    "для хранения информации о человеке, включающий поля name, age и city. \n",
    "Создайте список объектов Person и выведите информацию о каждом человеке на экран.\n",
    "Пример вывода:\n",
    "Name: Alice, Age: 25, City: New York\n",
    "Name: Bob, Age: 30, City: London\n",
    "Name: Carol, Age: 35, City: Paris '''\n",
    "\n",
    "from collections import namedtuple\n",
    "from collections import defaultdict\n",
    "\n",
    "# Создаем именованный кортеж с именами полей 'name', 'age', 'City'\n",
    "Person = namedtuple('Person', ['name', 'Age', 'City'])\n",
    "person1 = Person(name='Alice', Age=25, City='New York')\n",
    "person2 = Person(name='Bob', Age=30, City='London')\n",
    "person3 = Person(name='Carol', Age=35, City='Paris')\n",
    "auditory = [ person1, person2, person3 ] \n",
    "#print( f' {auditory= }' )\n",
    "\n",
    "for el in auditory:    \n",
    "    print( f' name: {el.name}, Age: {el.Age}, City: {el.City}' )"
   ]
  },
  {
   "cell_type": "code",
   "execution_count": 19,
   "metadata": {},
   "outputs": [
    {
     "name": "stdout",
     "output_type": "stream",
     "text": [
      " my_dict= {'banana': '6'} \n",
      " Значение для ключа orange: 0 \n"
     ]
    }
   ],
   "source": [
    "''' 3. Напишите программу, которая принимает словарь от пользователя и ключ, \n",
    "и возвращает значение для указанного ключа с использованием метода get или setdefault. \n",
    "Создайте функцию get_value_from_dict, которая принимает словарь и ключ в качестве аргументов, \n",
    "и возвращает значение для указанного ключа, используя метод get или setdefault \n",
    "в зависимости от выбранного варианта. Выведите полученное значение на экран.\n",
    "Пример словаря: my_dict = {'apple': 5, 'banana': 6, 'cherry': 7}\n",
    "Пример вывода:\n",
    "Введите ключ для поиска: banana\n",
    "Использовать метод get (y/n)? y\n",
    "Значение для ключа 'banana': 6 '''\n",
    "\n",
    "def get_value_from_dict(my_dict, kkey, method):\n",
    "    \n",
    "    if method == 'y':\n",
    "        return my_dict.get(kkey, 'No such key!')\n",
    "    else:\n",
    "        return my_dict.setdefault(kkey, 0)     \n",
    "\n",
    "# принимает словарь от пользователя и ключ\n",
    "#my_dict = {'apple': 5, 'banana': 6, 'cherry': 7} # apple 5, banana 6, cherry 7\n",
    "my_dict = dict()\n",
    "key, value = input('Введите key value / a 0: ').split()\n",
    "while True:     \n",
    "    my_dict[key] = value\n",
    "    key, value = input('Введите key and value or 0 0: ').split()\n",
    "    if key == '0' or value == '0': \n",
    "        print(f' {my_dict= } ')\n",
    "        break\n",
    "\n",
    "kkey = input('Введите ключ для поиска: ')\n",
    "method = input('Использовать метод get (y/n)? ')\n",
    "print( f\" Значение для ключа {kkey}: { get_value_from_dict(my_dict, kkey, method) } \" )"
   ]
  }
 ],
 "metadata": {
  "kernelspec": {
   "display_name": "Python 3",
   "language": "python",
   "name": "python3"
  },
  "language_info": {
   "codemirror_mode": {
    "name": "ipython",
    "version": 3
   },
   "file_extension": ".py",
   "mimetype": "text/x-python",
   "name": "python",
   "nbconvert_exporter": "python",
   "pygments_lexer": "ipython3",
   "version": "3.10.12"
  }
 },
 "nbformat": 4,
 "nbformat_minor": 2
}
