{
 "cells": [
  {
   "cell_type": "code",
   "execution_count": 3,
   "metadata": {},
   "outputs": [
    {
     "name": "stdout",
     "output_type": "stream",
     "text": [
      "0\n",
      "1\n",
      "4\n",
      "9\n",
      "16\n",
      "25\n"
     ]
    }
   ],
   "source": [
    "# 2024.03.11 HW 23\n",
    "''' 1. Напишите программу, которая генерирует и выводит \n",
    "квадраты чисел от 1 до N с использованием генераторного \n",
    "выражения. Реализуйте функцию generate_squares, \n",
    "которая принимает число N в качестве аргумента и \n",
    "использует генераторное выражение для генерации квадратов\n",
    "чисел. Затем выведите квадраты чисел на экран.\n",
    "Пример работы программы:\n",
    "1\n",
    "4\n",
    "9\n",
    "16\n",
    "25 '''\n",
    "\n",
    "def generate_squares(n):\n",
    "    my_generator = (x**2 for x in range(n+1))\n",
    "    for item in my_generator:\n",
    "        print(item)\n",
    "\n",
    "n = int(input())\n",
    "generate_squares(n)"
   ]
  },
  {
   "cell_type": "code",
   "execution_count": 18,
   "metadata": {},
   "outputs": [
    {
     "name": "stdout",
     "output_type": "stream",
     "text": [
      "0\n",
      "1\n",
      "1\n",
      "2\n",
      "3\n",
      "5\n",
      "8\n"
     ]
    }
   ],
   "source": [
    "'''2. Напишите генератор, который будет генерировать \n",
    "бесконечную последовательность Фибоначчи. Каждый раз, \n",
    "когда генератор вызывается, он должен возвращать следующее\n",
    "число последовательности. Напишите программу, которая будет \n",
    "использовать  этот генератор для вывода первых N чисел Фибоначчи.\n",
    "2. Пример вывода: Введите количество чисел Фибоначчи: 10\n",
    "Первые 10 чисел Фибоначчи: 0 1 1 2 3 5 8 13 21 34 '''\n",
    "\n",
    "def fibonacci():\n",
    "    x,y = 0,1\n",
    "    while True:\n",
    "        yield x         \n",
    "        x,y = y,x+y \n",
    "\n",
    "n = int(input())\n",
    "fib_numbers = fibonacci()\n",
    "for i in range(n):\n",
    "    print(next(fib_numbers))\n"
   ]
  }
 ],
 "metadata": {
  "kernelspec": {
   "display_name": "Python 3",
   "language": "python",
   "name": "python3"
  },
  "language_info": {
   "codemirror_mode": {
    "name": "ipython",
    "version": 3
   },
   "file_extension": ".py",
   "mimetype": "text/x-python",
   "name": "python",
   "nbconvert_exporter": "python",
   "pygments_lexer": "ipython3",
   "version": "3.10.12"
  }
 },
 "nbformat": 4,
 "nbformat_minor": 2
}
