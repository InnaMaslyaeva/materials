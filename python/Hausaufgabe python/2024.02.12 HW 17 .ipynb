{
 "cells": [
  {
   "cell_type": "code",
   "execution_count": 21,
   "metadata": {},
   "outputs": [
    {
     "name": "stdout",
     "output_type": "stream",
     "text": [
      "Измененный список чисел: [2, 1, 6, 2, 10]\n"
     ]
    }
   ],
   "source": [
    "# 2024.02.12 HW 17\n",
    "''' 1. Напишите программу, которая принимает \n",
    "список чисел от пользователя и передает его в\n",
    "функцию modify_list, которая изменяет элементы списка. \n",
    "Функция должна умножить нечетные числа на 2, \n",
    "а четные числа разделить на 2. \n",
    "Выведите измененный список на экран. Объясните, \n",
    "почему изменения происходят только внутри функции и как работают\n",
    "изменяемые и неизменяемые параметры.\n",
    "Пример вывода: Введите список чисел, разделенных пробелами: 1 2 3 4 5\n",
    "Измененный список чисел: [2, 1, 6, 2, 10]'''\n",
    "\n",
    "def modify_list(string):  \n",
    "    newlist = []\n",
    "    for x in [int(num) for num in string.split()] :\n",
    "      if x%2!=0: newlist.append(x*2)\n",
    "      elif x%2==0: newlist.append(x//2)      \n",
    "    print(f'Измененный список чисел: {newlist}') \n",
    "\n",
    "string = input('Введите список чисел, разделенных пробелами: ')\n",
    "modify_list(string)"
   ]
  },
  {
   "cell_type": "code",
   "execution_count": 22,
   "metadata": {},
   "outputs": [
    {
     "name": "stdout",
     "output_type": "stream",
     "text": [
      "Сумма чисел: 15\n"
     ]
    }
   ],
   "source": [
    "'''2 Напишите программу, которая принимает произвольное \n",
    "количество аргументов от пользователя и передает их \n",
    "в функцию calculate_sum, которая возвращает сумму всех аргументов. \n",
    "Используйте оператор * при передаче аргументов в функцию. \n",
    "Выведите результат на экран.\n",
    "Пример вывода: Введите числа, разделенные пробелами: 1 2 3 4 5\n",
    "Сумма чисел: 15''' \n",
    "\n",
    "def calculate_sum(*arg):    \n",
    "    list = sum([int(num) for num in arg])\n",
    "    print(f'Сумма чисел: {list}') \n",
    "\n",
    "string = input('Введите числа, разделенные пробелами: ').split()\n",
    "calculate_sum(*string)\n"
   ]
  }
 ],
 "metadata": {
  "kernelspec": {
   "display_name": "Python 3",
   "language": "python",
   "name": "python3"
  },
  "language_info": {
   "codemirror_mode": {
    "name": "ipython",
    "version": 3
   },
   "file_extension": ".py",
   "mimetype": "text/x-python",
   "name": "python",
   "nbconvert_exporter": "python",
   "pygments_lexer": "ipython3",
   "version": "3.10.12"
  }
 },
 "nbformat": 4,
 "nbformat_minor": 2
}
