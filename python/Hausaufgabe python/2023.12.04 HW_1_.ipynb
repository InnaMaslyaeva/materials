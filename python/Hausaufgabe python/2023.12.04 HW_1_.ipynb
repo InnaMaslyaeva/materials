{
 "cells": [
  {
   "cell_type": "code",
   "execution_count": null,
   "id": "1c14ca1f",
   "metadata": {},
   "outputs": [],
   "source": [
    "# 2023/12/04 homework_1"
   ]
  },
  {
   "cell_type": "code",
   "execution_count": 1,
   "id": "f6d3ecba",
   "metadata": {},
   "outputs": [
    {
     "data": {
      "text/plain": [
       "2"
      ]
     },
     "execution_count": 1,
     "metadata": {},
     "output_type": "execute_result"
    }
   ],
   "source": [
    "1+1"
   ]
  },
  {
   "cell_type": "code",
   "execution_count": 4,
   "id": "7ab1c3c1",
   "metadata": {},
   "outputs": [
    {
     "name": "stdout",
     "output_type": "stream",
     "text": [
      "Предметы: \n",
      " Python \n",
      " Google sheets \n",
      " Datаbase: \n"
     ]
    }
   ],
   "source": [
    "print('Предметы:', '\\n', 'Python', '\\n', 'Google sheets', '\\n', 'Datаbase: ')\n",
    "\n"
   ]
  },
  {
   "cell_type": "code",
   "execution_count": null,
   "id": "20597352",
   "metadata": {},
   "outputs": [],
   "source": []
  }
 ],
 "metadata": {
  "kernelspec": {
   "display_name": "Python 3 (ipykernel)",
   "language": "python",
   "name": "python3"
  },
  "language_info": {
   "codemirror_mode": {
    "name": "ipython",
    "version": 3
   },
   "file_extension": ".py",
   "mimetype": "text/x-python",
   "name": "python",
   "nbconvert_exporter": "python",
   "pygments_lexer": "ipython3",
   "version": "3.10.12"
  }
 },
 "nbformat": 4,
 "nbformat_minor": 5
}
