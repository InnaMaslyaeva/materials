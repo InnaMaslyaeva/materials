{
 "cells": [
  {
   "cell_type": "code",
   "execution_count": 10,
   "metadata": {},
   "outputs": [
    {
     "name": "stdout",
     "output_type": "stream",
     "text": [
      "Hll, wrld!\n"
     ]
    }
   ],
   "source": [
    "# 2024.01.18 HW 10\n",
    "'''1. Напишите программу, которая запрашивает у пользователя строку и \n",
    "преобразует ее, удаляя все гласные буквы из строки. \n",
    "Используйте метод replace() для замены гласных букв на пустую строку. \n",
    "Выведите преобразованную строку на экран с помощью команды print.\n",
    "Пример вывода:\n",
    "Введите строку: Hello, world!\n",
    "Результат: Hll, wrld!'''\n",
    "\n",
    "stroka = input('Введите строку: ')\n",
    "\n",
    "i = 0\n",
    "while i < len(stroka):\n",
    "    if stroka[i] in 'AEIOUYaeiouy':\n",
    "        stroka = stroka.replace(stroka[i], '')\n",
    "    i += 1\n",
    "print(stroka)  \n"
   ]
  },
  {
   "cell_type": "code",
   "execution_count": 47,
   "metadata": {},
   "outputs": [
    {
     "name": "stdout",
     "output_type": "stream",
     "text": [
      "Символы d и f и g и h повторяются.\n"
     ]
    }
   ],
   "source": [
    "'''2. Напишите программу, которая запрашивает у пользователя строку и определяет, \n",
    "содержит ли она только уникальные символы. Если все символы в строке уникальны, \n",
    "выведите соответствующее сообщение на экран. \n",
    "В противном случае выведите сообщение о том, какие символы повторяются. \n",
    "Не используйте множества и подобные структуры данных, которые мы пока не изучали, \n",
    "для проверки уникальности символов.\n",
    "Пример вывода:Введите строку: Python   Все символы в строке у альны.\n",
    "Введите строку: Hello   Символы 'l' и 'o' повторяются.'''\n",
    "\n",
    "stroka = input('Введите строку: ').replace(' ', '')\n",
    "\n",
    "povtory = ''\n",
    "while stroka != '':\n",
    "    \n",
    "    if stroka.count(stroka[0]) > 1:\n",
    "        povtory = povtory + stroka[0]\n",
    "\n",
    "    stroka = stroka.replace(stroka[0], '')    \n",
    "\n",
    "data = ' и '.join(povtory)    \n",
    "print(f'Все символы в строке уникальны.') if not(povtory) else print(f'Символы {data} повторяются.') \n"
   ]
  },
  {
   "cell_type": "code",
   "execution_count": 129,
   "metadata": {},
   "outputs": [
    {
     "name": "stdout",
     "output_type": "stream",
     "text": [
      "*****Python**** 15\n"
     ]
    }
   ],
   "source": [
    "'''3. Напишите программу, которая запрашивает у пользователя строку и \n",
    "выравнивает ее по центру с заданной шириной. \n",
    "Если строка не может быть выровнена по центру из-за нечетной ширины, \n",
    "она должна быть выровнена смещением вправо. \n",
    "Используйте методы center() и rjust() для выравнивания строки.\n",
    "Пример вывода: \n",
    "Введите строку: Python\n",
    "Введите ширину: 10\n",
    "Результат:  Python '''\n",
    "\n",
    "stroka = 'Python' #input('Введите строку: ')\n",
    "n = 15 #int(input('Введите ширину: '))\n",
    "\n",
    "if len(stroka)%2==0:\n",
    "    new_stroka = stroka.center(n,'*')\n",
    "    \n",
    "else:    \n",
    "    new_stroka = '*'+stroka.center(n-1,'*')\n",
    "\n",
    "print(new_stroka, len(new_stroka))\n",
    "            \n",
    "\n"
   ]
  }
 ],
 "metadata": {
  "kernelspec": {
   "display_name": "Python 3 (ipykernel)",
   "language": "python",
   "name": "python3"
  },
  "language_info": {
   "codemirror_mode": {
    "name": "ipython",
    "version": 3
   },
   "file_extension": ".py",
   "mimetype": "text/x-python",
   "name": "python",
   "nbconvert_exporter": "python",
   "pygments_lexer": "ipython3",
   "version": "3.10.12"
  }
 },
 "nbformat": 4,
 "nbformat_minor": 2
}
