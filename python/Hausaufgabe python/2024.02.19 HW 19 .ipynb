{
 "cells": [
  {
   "cell_type": "code",
   "execution_count": 2,
   "metadata": {},
   "outputs": [
    {
     "name": "stdout",
     "output_type": "stream",
     "text": [
      "[{'act', 'tac', 'cat'}, {'dog', 'god'}]\n"
     ]
    }
   ],
   "source": [
    "# 2024.02.19 HW 19\n",
    "'''1 Напишите программу, которая принимает список слов и \n",
    "возвращает список, содержащий только анаграммы. \n",
    "Анаграммы - это слова, составленные из одних и \n",
    "тех же букв, но в разном порядке. \n",
    "Создайте функцию anagrams, которая принимает список слов \n",
    "в качестве аргумента и возвращает список анаграмм. \n",
    "Используйте множества и сортировку букв в слове \n",
    "для проверки на анаграмму. Выведите результат на экран.\n",
    "Пример переданного списка слов:\n",
    "['cat', 'dog', 'tac', 'god', 'act']\n",
    "Пример вывода:\n",
    "Анаграммы: ['dog', 'god'], ['cat', 'tac', 'act']'''\n",
    "\n",
    "def anagramma(data):\n",
    "    samples = []  # слова с отсортированными буквами\n",
    "    res_anagrams = []  # список множеств\n",
    "    for word in data:\n",
    "        word1 = \"\".join(sorted(word))\n",
    "        for i, sample in enumerate(samples):\n",
    "            if word1 == sample:\n",
    "                res_anagrams[i].add(word)\n",
    "                break\n",
    "        else:\n",
    "            samples.append(word1)\n",
    "            res_anagrams.append(set([word]))\n",
    "    return res_anagrams\n",
    "\n",
    "data = ['cat', 'dog', 'tac', 'god', 'act'] #input('Введите cписок слов через пробел: ').split()\n",
    "data.sort()\n",
    "print(anagramma(data))\n"
   ]
  },
  {
   "cell_type": "code",
   "execution_count": 43,
   "metadata": {},
   "outputs": [
    {
     "name": "stdout",
     "output_type": "stream",
     "text": [
      "True\n"
     ]
    }
   ],
   "source": [
    "''' 2 Напишите функцию is_subset, которая принимает \n",
    "два множества set1 и set2 и проверяет, \n",
    "является ли set1 подмножеством set2. \n",
    "Функция должна возвращать True, \n",
    "если все элементы из set1 содержатся в set2, и \n",
    "False в противном случае. \n",
    "Функция должна быть реализована без использования \n",
    "встроенных методов issubset или <=.\n",
    "Пример множеств \n",
    "{1, 2, 3}\n",
    "{1, 2, 3, 4, 5}\n",
    "Пример вывода: True '''\n",
    "\n",
    "def is_subset(data_1, data_2):\n",
    "    f = True\n",
    "    for el in data_1:\n",
    "      f *= ( el in data_2 )\n",
    "    return bool(f)   \n",
    "\n",
    "data_1 = {1, 2, 3}\n",
    "data_2 = {1, 2, 3, 4, 5}\n",
    "\n",
    "print( is_subset(data_1, data_2) )\n"
   ]
  }
 ],
 "metadata": {
  "kernelspec": {
   "display_name": "Python 3",
   "language": "python",
   "name": "python3"
  },
  "language_info": {
   "codemirror_mode": {
    "name": "ipython",
    "version": 3
   },
   "file_extension": ".py",
   "mimetype": "text/x-python",
   "name": "python",
   "nbconvert_exporter": "python",
   "pygments_lexer": "ipython3",
   "version": "3.10.12"
  }
 },
 "nbformat": 4,
 "nbformat_minor": 2
}
