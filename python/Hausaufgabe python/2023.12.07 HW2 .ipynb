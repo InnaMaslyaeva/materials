{
 "cells": [
  {
   "cell_type": "code",
   "execution_count": 1,
   "id": "d748a4b7",
   "metadata": {},
   "outputs": [
    {
     "name": "stdout",
     "output_type": "stream",
     "text": [
      "Введите Ваше имя:  Inna\n",
      "Введите Ваш возраст: 54\n",
      " Привет, Inna! Тебе 54  лет.\n"
     ]
    }
   ],
   "source": [
    "# 2023/12/07 HW2\n",
    "# 1\n",
    "s1 = input('Введите Ваше имя:  ')\n",
    "s2 = input('Введите Ваш возраст: ')\n",
    "print(f' Привет, {s1}! Тебе {s2}  лет.')"
   ]
  },
  {
   "cell_type": "code",
   "execution_count": 3,
   "id": "f85151da",
   "metadata": {},
   "outputs": [
    {
     "name": "stdout",
     "output_type": "stream",
     "text": [
      "0b1111111\n"
     ]
    }
   ],
   "source": [
    "# 2\n",
    "print(bin(127))"
   ]
  },
  {
   "cell_type": "code",
   "execution_count": 4,
   "id": "b4ceb03f",
   "metadata": {},
   "outputs": [
    {
     "name": "stdout",
     "output_type": "stream",
     "text": [
      "102\n"
     ]
    }
   ],
   "source": [
    "print(int('1100110', 2))"
   ]
  },
  {
   "cell_type": "code",
   "execution_count": null,
   "id": "ce926aee",
   "metadata": {},
   "outputs": [],
   "source": []
  }
 ],
 "metadata": {
  "kernelspec": {
   "display_name": "Python 3 (ipykernel)",
   "language": "python",
   "name": "python3"
  },
  "language_info": {
   "codemirror_mode": {
    "name": "ipython",
    "version": 3
   },
   "file_extension": ".py",
   "mimetype": "text/x-python",
   "name": "python",
   "nbconvert_exporter": "python",
   "pygments_lexer": "ipython3",
   "version": "3.10.12"
  }
 },
 "nbformat": 4,
 "nbformat_minor": 5
}
