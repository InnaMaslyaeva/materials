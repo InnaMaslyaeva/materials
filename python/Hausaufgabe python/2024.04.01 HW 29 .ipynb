{
 "cells": [
  {
   "cell_type": "code",
   "execution_count": 15,
   "metadata": {},
   "outputs": [
    {
     "name": "stdout",
     "output_type": "stream",
     "text": [
      " square:   5 * 6 = 30\n"
     ]
    }
   ],
   "source": [
    "# 2024.01.04 HW 29\n",
    "\n",
    "''' 1. Создайте класс Rectangle для представления прямоугольника. \n",
    "Класс должен иметь атрибуты width (ширина) и height (высота), \n",
    "а также метод calculate_area(), который вычисляет площадь \n",
    "прямоугольника. Затем создайте экземпляр класса Rectangle \n",
    "с заданными значениями ширины и высоты и выведите его площадь.'''\n",
    "\n",
    "class Rectangle():\n",
    "    def __init__(self, width, height):\n",
    "        self.width = width\n",
    "        self.height = height\n",
    "    def  calculate_area(self):\n",
    "        #S = self.width * self.height\n",
    "        print(f' square:   {self.width} * {self.height} = {self.width*self.height}')   \n",
    "\n",
    "object1 = Rectangle(5, 6)\n",
    "object1.calculate_area()"
   ]
  },
  {
   "cell_type": "code",
   "execution_count": 17,
   "metadata": {},
   "outputs": [
    {
     "name": "stdout",
     "output_type": "stream",
     "text": [
      " information:   Tom Hanks , 50 \n"
     ]
    }
   ],
   "source": [
    "'''2. Создайте класс Student для представления студента. \n",
    "Класс должен иметь атрибуты name (имя) и age (возраст), \n",
    "а также метод display_info(), который выводит информацию о студенте. \n",
    "Затем создайте экземпляр класса Student с заданным именем и возрастом \n",
    "и вызовите метод display_info().'''\n",
    "\n",
    "class Student():\n",
    "    def __init__(self, name, age):\n",
    "        self.name = name\n",
    "        self.age = age\n",
    "    def display_info(self):\n",
    "        print(f' information:   {self.name} , {self.age} ') \n",
    "\n",
    "person1 = Student(\"Tom Hanks\", 50)\n",
    "person1.display_info()\n",
    "\n"
   ]
  }
 ],
 "metadata": {
  "kernelspec": {
   "display_name": "Python 3",
   "language": "python",
   "name": "python3"
  },
  "language_info": {
   "codemirror_mode": {
    "name": "ipython",
    "version": 3
   },
   "file_extension": ".py",
   "mimetype": "text/x-python",
   "name": "python",
   "nbconvert_exporter": "python",
   "pygments_lexer": "ipython3",
   "version": "3.10.12"
  }
 },
 "nbformat": 4,
 "nbformat_minor": 2
}
