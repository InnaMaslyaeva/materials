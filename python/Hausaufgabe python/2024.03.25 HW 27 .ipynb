{
 "cells": [
  {
   "cell_type": "code",
   "execution_count": 19,
   "metadata": {},
   "outputs": [
    {
     "name": "stdout",
     "output_type": "stream",
     "text": [
      " 72\n"
     ]
    }
   ],
   "source": [
    "# 2024.03.25 HW 27\n",
    "'''  1. Напишите функцию, которая принимает на вход список чисел и\n",
    "возвращает сумму квадратов только четных чисел из списка, \n",
    "используя функциональные подходы (например, map, filter и reduce).\n",
    "Пример вывода:\n",
    "Введите числа: 4, 6, 3, 4, 2, 3, 9, 0, 7\n",
    "Результат: 72 '''\n",
    "\n",
    "numbers = [4, 6, 3, 4, 2, 3, 9, 0, 7]#\n",
    "#print( numbers )\n",
    "\n",
    "numbers0_selected = list( filter (lambda x : x%2==0, numbers) )\n",
    "#numbers1_selected = list( filter (lambda x : x%2!=0, numbers) )\n",
    "#print( numbers0_selected, numbers1_selected )\n",
    "\n",
    "result = list( map( lambda x: x**2, numbers0_selected ) )  \n",
    "print( f' {sum( result )}')\n"
   ]
  },
  {
   "cell_type": "code",
   "execution_count": 46,
   "metadata": {},
   "outputs": [
    {
     "name": "stdout",
     "output_type": "stream",
     "text": [
      "9\n"
     ]
    }
   ],
   "source": [
    "'''2. Напишите функцию, которая принимает на вход список функций и значение, а затем\n",
    "применяет композицию этих функций к значению, возвращая конечный результат.\n",
    "Пример использования:\n",
    "add_one = lambda x: x + 1\n",
    "double = lambda x: x * 2\n",
    "subtract_three = lambda x: x - 3\n",
    "functions = [add_one, double, subtract_three]\n",
    "compose_functions(functions, 5) должно вывести 9 '''\n",
    "\n",
    "def compose_functions(functions, n):\n",
    "    \n",
    "    add_one = lambda x: x + 1\n",
    "    double = lambda x: x * 2\n",
    "    subtract_three = lambda x: x - 3\n",
    "    \n",
    "    for i in functions:\n",
    "        if i == 'add_one':\n",
    "            n = add_one(n) \n",
    "        if i == 'double':\n",
    "            n = double(n) \n",
    "        if i == 'subtract_three':\n",
    "            n = subtract_three(n)      \n",
    "   \n",
    "    return n\n",
    "\n",
    "number = 5\n",
    "functions = ['add_one', 'double', 'subtract_three']\n",
    "print( compose_functions(functions, number)  )\n"
   ]
  }
 ],
 "metadata": {
  "kernelspec": {
   "display_name": "Python 3",
   "language": "python",
   "name": "python3"
  },
  "language_info": {
   "codemirror_mode": {
    "name": "ipython",
    "version": 3
   },
   "file_extension": ".py",
   "mimetype": "text/x-python",
   "name": "python",
   "nbconvert_exporter": "python",
   "pygments_lexer": "ipython3",
   "version": "3.10.12"
  }
 },
 "nbformat": 4,
 "nbformat_minor": 2
}
