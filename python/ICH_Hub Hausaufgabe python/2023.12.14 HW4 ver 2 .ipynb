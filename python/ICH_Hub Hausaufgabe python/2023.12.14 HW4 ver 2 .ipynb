{
 "cells": [
  {
   "cell_type": "code",
   "execution_count": 1,
   "id": "c37dcb3e",
   "metadata": {},
   "outputs": [
    {
     "name": "stdout",
     "output_type": "stream",
     "text": [
      " x1= True  x2= False \n",
      "Логическое И (and) между двумя значениями  x1 and x2= False \n",
      "Логическое ИЛИ (or) между двумя значениями  x1 or x2= True \n",
      "Логическое НЕ (not) для каждого значения  not(x1)= False  not(x2)= True\n",
      "Результат сравнения двух значений на равенствo  x1 == x2= False \n",
      "Результат сравнения двух значений на неравенство  x1 != x2= True \n"
     ]
    }
   ],
   "source": [
    "# 2023.12.14 HW 4\n",
    "\n",
    "# 2023.12.14 HW 4 version 2\n",
    "\n",
    "'''\n",
    "1 Даны формулы: ¬((A ∨ B) ∧ (C ∨ D)) и ((¬A ∧ ¬B) ∨ (¬C ∧ ¬D)).\n",
    "Используя закон Де Моргана, докажите, что эти формулы эквивалентны.'''\n",
    "'''\n",
    "законы Де Моргана:\n",
    "not(A ∨ B) = not (A) ∧ not (B) \n",
    "not(A ∧ B) = not (A) ∨ not (B) \n",
    "тогда\n",
    "not((A ∨ B) ∧ (C ∨ D)) = not(A ∨ B) ∨ not (C ∨ D) = (not(A) ∧ not(B)) ∨ (not(C) ∧ not(D)) '''\n",
    "\n",
    "\n",
    "'''\n",
    "2 Напишите программу, которая запрашивает у пользователя два логических значения (True или\n",
    "False) и выводит результаты следующих логических операций:\n",
    "● Логическое И (and) между двумя значениями.\n",
    "● Логическое ИЛИ (or) между двумя значениями.\n",
    "● Логическое НЕ (not) для каждого значения.\n",
    "● Результат сравнения двух значений на равенство.\n",
    "● Результат сравнения двух значений на неравенство.\n",
    "Результаты должны быть выведены с помощью команды print.\n",
    "\n",
    "'''\n",
    "x1 =True # bool(input('input True or False'))\n",
    "x2 =False # bool(input('input True or False'))\n",
    "print(f' {x1= }  {x2= } ')\n",
    "\n",
    "print(f'Логическое И (and) между двумя значениями  {x1 and x2= } ')\n",
    "print(f'Логическое ИЛИ (or) между двумя значениями  {x1 or x2= } ')\n",
    "print(f'Логическое НЕ (not) для каждого значения  {not(x1)= }  {not(x2)= }')\n",
    "print(f'Результат сравнения двух значений на равенствo  {x1 == x2= } ')\n",
    "print(f'Результат сравнения двух значений на неравенство  {x1 != x2= } ')\n"
   ]
  },
  {
   "cell_type": "code",
   "execution_count": null,
   "id": "db0452be",
   "metadata": {},
   "outputs": [],
   "source": []
  }
 ],
 "metadata": {
  "kernelspec": {
   "display_name": "Python 3 (ipykernel)",
   "language": "python",
   "name": "python3"
  },
  "language_info": {
   "codemirror_mode": {
    "name": "ipython",
    "version": 3
   },
   "file_extension": ".py",
   "mimetype": "text/x-python",
   "name": "python",
   "nbconvert_exporter": "python",
   "pygments_lexer": "ipython3",
   "version": "3.10.12"
  }
 },
 "nbformat": 4,
 "nbformat_minor": 5
}
