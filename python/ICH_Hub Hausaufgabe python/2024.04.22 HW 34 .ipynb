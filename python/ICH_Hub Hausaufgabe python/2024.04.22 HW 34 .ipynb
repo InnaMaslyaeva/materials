{
 "cells": [
  {
   "cell_type": "code",
   "execution_count": 5,
   "metadata": {},
   "outputs": [
    {
     "name": "stdout",
     "output_type": "stream",
     "text": [
      "['info@example.com', 'support@example.com']\n"
     ]
    }
   ],
   "source": [
    "# 2024.04.22 HW 34\n",
    "\n",
    "''' 1. Напишите функцию extract_emails(text), которая извлекает все адреса \n",
    "электронной почты из заданного текста и возвращает их в виде списка.\n",
    "Пример использования:\n",
    "text = \"Contact us at info@example.com or support@example.com for assistance.\"\n",
    "emails = extract_emails(text)\n",
    "print(emails)  # Вывод: ['info@example.com', 'support@example.com'] '''\n",
    "\n",
    "import re\n",
    "\n",
    "def extract_emails(text):\n",
    "    #print( text )\n",
    "    pattern = r'\\w+@\\w+\\.\\w+'\n",
    "    data = re.findall(pattern, text)\n",
    "    return data \n",
    "\n",
    "text = \"Contact us at info@example.com or support@example.com for assistance.\"\n",
    "emails = extract_emails( text )\n",
    "print( emails ) "
   ]
  },
  {
   "cell_type": "code",
   "execution_count": 43,
   "metadata": {},
   "outputs": [
    {
     "name": "stdout",
     "output_type": "stream",
     "text": [
      "This is a sample text. We need to highlight *Python* and *programming*.\n"
     ]
    }
   ],
   "source": [
    "''' 2. Напишите функцию highlight_keywords(text, keywords), которая выделяет \n",
    "все вхождения заданных ключевых слов в тексте, окружая их символами *. \n",
    "Функция должна быть регистронезависимой при поиске ключевых слов.\n",
    "Пример использования:\n",
    "text = \"This is a sample text. We need to highlight Python and programming.\"\n",
    "keywords = [\"python\", \"programming\"]\n",
    "highlighted_text = highlight_keywords(text, keywords)\n",
    "print(highlighted_text)\n",
    "# Вывод: \"This is a sample text. We need to highlight *Python* and *programming*.\" '''\n",
    "\n",
    "def highlight_keywords(new_text, keywords):\n",
    "\n",
    "    for word in keywords + [words.capitalize() for words in keywords ]:\n",
    "        if re.findall(word, new_text): \n",
    "            new_text = new_text.replace(word, '*'+word+'*')            \n",
    "        \n",
    "    return new_text\n",
    "\n",
    "text = \"This is a sample text. We need to highlight Python and programming.\"\n",
    "keywords = [\"python\", \"programming\"]\n",
    "\n",
    "highlighted_text = highlight_keywords(text, keywords)\n",
    "print(highlighted_text)"
   ]
  }
 ],
 "metadata": {
  "kernelspec": {
   "display_name": "Python 3",
   "language": "python",
   "name": "python3"
  },
  "language_info": {
   "codemirror_mode": {
    "name": "ipython",
    "version": 3
   },
   "file_extension": ".py",
   "mimetype": "text/x-python",
   "name": "python",
   "nbconvert_exporter": "python",
   "pygments_lexer": "ipython3",
   "version": "3.10.12"
  }
 },
 "nbformat": 4,
 "nbformat_minor": 2
}
