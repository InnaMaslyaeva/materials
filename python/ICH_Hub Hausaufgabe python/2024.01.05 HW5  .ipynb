{
 "cells": [
  {
   "cell_type": "code",
   "execution_count": 6,
   "id": "933cb6cd",
   "metadata": {},
   "outputs": [
    {
     "name": "stdout",
     "output_type": "stream",
     "text": [
      "Введите первое число:1\n",
      "Введите второе число:4\n",
      "Введите третье число:2\n",
      "Числа в порядке возрастания: 1, 2, 4\n"
     ]
    }
   ],
   "source": [
    "# 2024.01.05 HW 5\n",
    "'''\n",
    "1 Напишите программу, которая запрашивает\n",
    "у пользователя три числа и выводит их\n",
    "в порядке возрастания, разделенные запятой.\n",
    "Используйте условные операторы и\n",
    "вложенные условия для решения задачи.\n",
    "Предполагается, что все три числа различны.'''\n",
    "\n",
    "x1 = int(input('Введите первое число:'))\n",
    "x2 = int(input('Введите второе число:'))\n",
    "x3 = int(input('Введите третье число:'))\n",
    "\n",
    "print('Числа в порядке возрастания: ', end='')\n",
    "print(*sorted([int(num) for num in [x1, x2, x3]]), sep=', ')\n"
   ]
  },
  {
   "cell_type": "code",
   "execution_count": 8,
   "id": "79b8bc03",
   "metadata": {},
   "outputs": [
    {
     "name": "stdout",
     "output_type": "stream",
     "text": [
      "Введите год:2024\n",
      "Год является високосным.\n"
     ]
    }
   ],
   "source": [
    "'''\n",
    "2 Напишите программу, которая запрашивает\n",
    "у пользователя год и проверяет, является ли он високосным.\n",
    "Год является високосным, если он делится на 4 без остатка,\n",
    "но не делится на 100 без остатка,\n",
    "за исключением годов, которые делятся на 400 без остатка.\n",
    "Выведите соответствующее сообщение на экран\n",
    "с помощью команды print.'''\n",
    "\n",
    "year = int(input('Введите год:'))\n",
    "if (year % 400 == 0) or (year % 4 == 0 and year % 100 != 0):\n",
    "    print('Год является високосным.')\n",
    "else: \n",
    "    print('Год не является високосным.')\n"
   ]
  },
  {
   "cell_type": "code",
   "execution_count": null,
   "id": "64bf7ac4",
   "metadata": {},
   "outputs": [],
   "source": []
  },
  {
   "cell_type": "code",
   "execution_count": null,
   "id": "ccd7e907",
   "metadata": {},
   "outputs": [],
   "source": []
  }
 ],
 "metadata": {
  "kernelspec": {
   "display_name": "Python 3 (ipykernel)",
   "language": "python",
   "name": "python3"
  },
  "language_info": {
   "codemirror_mode": {
    "name": "ipython",
    "version": 3
   },
   "file_extension": ".py",
   "mimetype": "text/x-python",
   "name": "python",
   "nbconvert_exporter": "python",
   "pygments_lexer": "ipython3",
   "version": "3.10.12"
  }
 },
 "nbformat": 4,
 "nbformat_minor": 5
}
