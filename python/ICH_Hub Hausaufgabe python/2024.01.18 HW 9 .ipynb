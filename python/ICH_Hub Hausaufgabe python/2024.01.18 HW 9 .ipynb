{
 "cells": [
  {
   "cell_type": "code",
   "execution_count": 29,
   "metadata": {},
   "outputs": [
    {
     "name": "stdout",
     "output_type": "stream",
     "text": [
      "Строка не является панграммой.\n"
     ]
    }
   ],
   "source": [
    "#  2024.01.18 HW 9\n",
    "'''1. Напишите программу, которая запрашивает у \n",
    "пользователя строку и определяет, \n",
    "является ли она панграммой. \n",
    "Панграмма - это фраза, содержащая все буквы алфавита. \n",
    "Программа должна игнорировать регистр букв \n",
    "и пробелы при проверке панграммы. \n",
    "Выведите соответствующее сообщение на экран \n",
    "с помощью команды print. Решить задачу для латиницы.\n",
    "Пример вывода: Введите строку: The quick brown fox jumps over the lazy dog\n",
    "Строка является панграммой.'''\n",
    "      \n",
    "stroka = input('Введите строку: ').upper()\n",
    "\n",
    "f = True\n",
    "i = ord('A')\n",
    "while i <= ord('Z'):\n",
    "    f *= (chr(i) in stroka)    \n",
    "    i += 1    \n",
    "\n",
    "print('Строка является панграммой.') if f else print('Строка не является панграммой.')\n"
   ]
  },
  {
   "cell_type": "code",
   "execution_count": 1,
   "metadata": {},
   "outputs": [
    {
     "name": "stdout",
     "output_type": "stream",
     "text": [
      "Количество гласных букв: 3 \n",
      "Количество согласных букв: 7 \n"
     ]
    }
   ],
   "source": [
    "'''2. Напишите программу, которая запрашивает у пользователя \n",
    "строку и выводит на экран количество гласных и согласных букв в ней. \n",
    "Используйте функцию len() для подсчета количества букв. \n",
    "Выведите результат на экран с помощью команды print. \n",
    "Решить задачу для латиницы.\n",
    "Пример вывода: Введите строку: Hello World\n",
    "Количество гласных букв: 3\n",
    "Количество согласных букв: 7'''\n",
    "\n",
    "stroka = input('Введите строку: ').upper()\n",
    "\n",
    "gl, sg = 'AEIOUY', 'BCDFGHJKLMNPQRSTVWXZ'\n",
    "cnt_g = cnt_s = i = 0\n",
    "while i < len(stroka):\n",
    "    if stroka[i] in gl: cnt_g += 1\n",
    "    elif stroka[i] in sg: cnt_s += 1\n",
    "    #print(i, stroka[i], cnt_g, cnt_s)\n",
    "    i += 1\n",
    "print(f'Количество гласных букв: {cnt_g} ') \n",
    "print(f'Количество согласных букв: {cnt_s} ')   \n",
    "\n"
   ]
  }
 ],
 "metadata": {
  "kernelspec": {
   "display_name": "Python 3 (ipykernel)",
   "language": "python",
   "name": "python3"
  },
  "language_info": {
   "codemirror_mode": {
    "name": "ipython",
    "version": 3
   },
   "file_extension": ".py",
   "mimetype": "text/x-python",
   "name": "python",
   "nbconvert_exporter": "python",
   "pygments_lexer": "ipython3",
   "version": "3.10.12"
  }
 },
 "nbformat": 4,
 "nbformat_minor": 2
}
