{
 "cells": [
  {
   "cell_type": "code",
   "execution_count": 52,
   "metadata": {},
   "outputs": [
    {
     "name": "stdout",
     "output_type": "stream",
     "text": [
      "{'a': [1], 'b': [2, 3], 'c': [4, 5], 'd': [6]}\n"
     ]
    }
   ],
   "source": [
    "# 2024.02.24 HW 20 \n",
    "\n",
    "''' 1. Напишите функцию merge_dicts, которая принимает произвольное \n",
    "количество словарей в качестве аргументов и возвращает новый словарь, \n",
    "объединяющий все входные словари. Если ключи повторяются, \n",
    "значения должны быть объединены в список. \n",
    "Функция должна использовать аргумент **kwargs для принятия \n",
    "произвольного числа аргументов словаря.\n",
    "Пример ввода: {'a': 1, 'b': 2}\n",
    "              {'b': 3, 'c': 4}\n",
    "              {'c': 5, 'd': 6}\n",
    "Пример вывода: {'a': [1], 'b': [2, 3], 'c': [4, 5], 'd': [6]} '''\n",
    "\n",
    "def merge_dict(**kwargs): \n",
    "    \n",
    "    d = dict()\n",
    "    for kwa_key, kwa_value in kwargs.items():\n",
    "        #print(kwa_key, kwa_value)\n",
    "        \n",
    "        for k, v in kwa_value.items():\n",
    "            if k not in d:\n",
    "                d[k] = [v]\n",
    "            elif k in d: \n",
    "                d[k].append(v)\n",
    "    return d     \n",
    "\n",
    "dict1 = {'a': 1, 'b': 2}\n",
    "dict2 = {'b': 3, 'c': 4}\n",
    "dict3 = {'c': 5, 'd': 6}\n",
    "\n",
    "print( merge_dict(qq1=dict1, qq2=dict2, qq3=dict3) )\n"
   ]
  },
  {
   "cell_type": "code",
   "execution_count": 45,
   "metadata": {},
   "outputs": [
    {
     "name": "stdout",
     "output_type": "stream",
     "text": [
      "4\n"
     ]
    }
   ],
   "source": [
    "''' 2. Напишите программу, которая принимает строку от пользователя\n",
    "и подсчитывает количество уникальных символов в этой строке. \n",
    "Создайте функцию count_unique_chars, которая принимает строку и \n",
    "возвращает количество уникальных символов. Выведите результат на экран.\n",
    "Пример вывода:\n",
    "Введите строку: hello\n",
    "Количество уникальных символов: 4'''\n",
    "\n",
    "def count_unique_chars(s):    \n",
    "    return  len(set(s))  \n",
    "\n",
    "print(count_unique_chars(input(' Введите строку:')))"
   ]
  },
  {
   "cell_type": "code",
   "execution_count": 51,
   "metadata": {},
   "outputs": [
    {
     "name": "stdout",
     "output_type": "stream",
     "text": [
      "{'Alice': 89.0, 'Bob': 80.66666666666667, 'Carol': 91.66666666666667}\n"
     ]
    }
   ],
   "source": [
    "'''3. Напишите программу, которая создает словарь, \n",
    "содержащий информацию о студентах и их оценках. \n",
    "Ключами словаря являются имена студентов, а значениями - списки оценок. \n",
    "Создайте функцию calculate_average_grade, которая принимает словарь \n",
    "с оценками студентов и вычисляет средний балл для каждого студента. \n",
    "Функция должна возвращать новый словарь, в котором ключами являются имена студентов, \n",
    "а значениями - их средний балл. Выведите результат на экран.\n",
    "Пример словаря с оценками\n",
    "grades = {     'Alice': [85, 90, 92],\n",
    "               'Bob': [78, 80, 84],\n",
    "               'Carol': [92, 88, 95]   }\n",
    "Пример вывода: {'Alice': 89.0, 'Bob': 80.66666666666667, 'Carol': 91.66666666666667}'''\n",
    "\n",
    "def calculate_average_grade(grades):\n",
    "    #print(f' {grades= } ') \n",
    "    \n",
    "    new_dict = dict()\n",
    "    for key, value in grades.items():\n",
    "        new_dict[key] = sum(value) / len(value)\n",
    "        #print(f' {new_dict= } ') \n",
    "    return new_dict    \n",
    "\n",
    "grades = {'Alice': [85, 90, 92],\n",
    "          'Bob': [78, 80, 84],\n",
    "          'Carol': [92, 88, 95]   }\n",
    "\n",
    "print(calculate_average_grade(grades))"
   ]
  }
 ],
 "metadata": {
  "kernelspec": {
   "display_name": "Python 3",
   "language": "python",
   "name": "python3"
  },
  "language_info": {
   "codemirror_mode": {
    "name": "ipython",
    "version": 3
   },
   "file_extension": ".py",
   "mimetype": "text/x-python",
   "name": "python",
   "nbconvert_exporter": "python",
   "pygments_lexer": "ipython3",
   "version": "3.10.12"
  }
 },
 "nbformat": 4,
 "nbformat_minor": 2
}
