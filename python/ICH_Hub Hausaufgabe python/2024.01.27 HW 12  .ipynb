{
 "cells": [
  {
   "cell_type": "code",
   "execution_count": 3,
   "metadata": {},
   "outputs": [
    {
     "name": "stdout",
     "output_type": "stream",
     "text": [
      "1 \t2 \t3 \t4 \t5 \t\n",
      "2 \t4 \t6 \t8 \t10 \t\n",
      "3 \t6 \t9 \t12 \t15 \t\n",
      "4 \t8 \t12 \t16 \t20 \t\n",
      "5 \t10 \t15 \t20 \t25 \t\n"
     ]
    }
   ],
   "source": [
    "# 2024.01.27 HW 12 \n",
    "'''\n",
    "1. Напишите программу, которая запрашивает у пользователя число N\n",
    " и выводит на экран таблицу умножения от 1 до N. \n",
    " Используйте вложенный цикл for для создания таблицы умножения. \n",
    " Выведите результат на экран с помощью команды print.\n",
    " Пример вывода: Введите число N: 5\n",
    "Таблица умножения: 1  2  3  4  5\n",
    "                   2  4  6  8  10\n",
    "                   3  6  9  12 15\n",
    "                   4  8  12 16 20\n",
    "                   5  10 15 20 25\n",
    "'''\n",
    "n = int(input('Введите число N: '))\n",
    "print(f'Таблица умножения:')\n",
    "\n",
    "for ind1 in range(1, n+1):\n",
    "    for ind2 in range(1, n+1):\n",
    "        print(ind1*ind2, '\\t', end='')\n",
    "    print()    "
   ]
  },
  {
   "cell_type": "code",
   "execution_count": 14,
   "metadata": {},
   "outputs": [
    {
     "name": "stdout",
     "output_type": "stream",
     "text": [
      "Список пар элементов: [('1', 'A'), ('2', 'B'), ('3', 'C'), ('4', 'D'), ('5', 'E')] \n"
     ]
    }
   ],
   "source": [
    "''' 2. Напишите программу, которая принимает два списка \n",
    "одинаковой длины и создает новый список, \n",
    "содержащий пары элементов из исходных списков. \n",
    "Используйте функцию zip() для создания пар элементов. \n",
    "Выведите результат на экран с помощью команды print.\n",
    "Пример вывода:\n",
    "Введите элементы первого списка, разделенные пробелом: 1 2 3 4 5\n",
    "Введите элементы второго списка, разделенные пробелом: A B C D E\n",
    "Список пар элементов: [(1, 'A'), (2, 'B'), (3, 'C'), (4, 'D'), (5, 'E')]'''\n",
    "\n",
    "list1 = input('Введите элементы первого списка, разделенные пробелом: ').split()\n",
    "list2 = input('Введите элементы второго списка, разделенные пробелом: ').split() \n",
    "\n",
    "new_list = []\n",
    "for el1, el2 in zip(list1, list2):    \n",
    "    new_list.append((el1, el2))    \n",
    "print(f'Список пар элементов: {new_list } ')"
   ]
  }
 ],
 "metadata": {
  "kernelspec": {
   "display_name": "Python 3",
   "language": "python",
   "name": "python3"
  },
  "language_info": {
   "codemirror_mode": {
    "name": "ipython",
    "version": 3
   },
   "file_extension": ".py",
   "mimetype": "text/x-python",
   "name": "python",
   "nbconvert_exporter": "python",
   "pygments_lexer": "ipython3",
   "version": "3.10.12"
  }
 },
 "nbformat": 4,
 "nbformat_minor": 2
}
