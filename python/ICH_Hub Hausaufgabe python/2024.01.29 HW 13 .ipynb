{
 "cells": [
  {
   "cell_type": "code",
   "execution_count": 2,
   "metadata": {},
   "outputs": [
    {
     "name": "stdout",
     "output_type": "stream",
     "text": [
      "(7, 12)\n"
     ]
    }
   ],
   "source": [
    "# 2024.01.29 HW 13\n",
    "'''1. Напишите программу, которая принимает два числа и\n",
    "возвращает их сумму и произведение в виде кортежа (sum, product). \n",
    "Используйте функцию для вычисления суммы и произведения. \n",
    "Выведите результат на экран с помощью команды print.\n",
    "Пример вывода:\n",
    "Введите первое число: 3\n",
    "Введите второе число: 4\n",
    "Сумма и произведение чисел: (7, 12)'''\n",
    "\n",
    "def func():\n",
    "    numer1 = int(input('Введите первое число: '))\n",
    "    numer2 = int(input('Введите второе число: '))\n",
    "    \n",
    "    sum = numer1+numer2\n",
    "    product = numer1*numer2\n",
    "    return sum, product\n",
    "\n",
    "print(func())\n"
   ]
  },
  {
   "cell_type": "code",
   "execution_count": 8,
   "metadata": {},
   "outputs": [
    {
     "name": "stdout",
     "output_type": "stream",
     "text": [
      "Сумма чисел: 27\n",
      "Минимальное значение: 1\n",
      "Максимальное значение: 9\n"
     ]
    }
   ],
   "source": [
    "'''2. Напишите программу, которая принимает список чисел и возвращает сумму, \n",
    "минимальное и максимальное значение из списка. \n",
    "Используйте функцию для обработки списка чисел и возврата трех значений. \n",
    "Выведите результат на экран с помощью команды print.\n",
    "Пример вывода:\n",
    "Введите числа:  3, 7, 2, 9, 1, 5\n",
    "Сумма чисел: 27\n",
    "Минимальное значение: 1\n",
    "Максимальное значение: 9 '''\n",
    "\n",
    "def func(llist):\n",
    "\n",
    "    for ind in range(len(llist)):\n",
    "        llist[ind] = int(llist[ind])\n",
    "    \n",
    "    lsum =  sum(llist)\n",
    "    lmin =  min(llist)\n",
    "    lmax =  max(llist)\n",
    "    return lsum, lmin, lmax\n",
    "\n",
    "llist = input('Введите числа : ').split(', ')\n",
    "x1, x2, x3 = func(llist)\n",
    "\n",
    "print(f'Сумма чисел: { x1 }')\n",
    "print(f'Минимальное значение: { x2 }')\n",
    "print(f'Максимальное значение: { x3 }')\n"
   ]
  }
 ],
 "metadata": {
  "kernelspec": {
   "display_name": "Python 3",
   "language": "python",
   "name": "python3"
  },
  "language_info": {
   "codemirror_mode": {
    "name": "ipython",
    "version": 3
   },
   "file_extension": ".py",
   "mimetype": "text/x-python",
   "name": "python",
   "nbconvert_exporter": "python",
   "pygments_lexer": "ipython3",
   "version": "3.10.12"
  }
 },
 "nbformat": 4,
 "nbformat_minor": 2
}
