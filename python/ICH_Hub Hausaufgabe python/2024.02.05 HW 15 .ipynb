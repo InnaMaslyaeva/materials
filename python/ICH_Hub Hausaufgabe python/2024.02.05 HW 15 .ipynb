{
 "cells": [
  {
   "cell_type": "code",
   "execution_count": 1,
   "metadata": {},
   "outputs": [
    {
     "name": "stdout",
     "output_type": "stream",
     "text": [
      "Список кортежей: [('Alice', '20', '90\\n'), ('Bob', '19', '80\\n'), ('Charlie', '21', '95\\n'), ('David', '18', '85\\n'), ('Alex', '19', '87\\n'), ('Anna', '18', '93\\n')] \n",
      "Студенты с средним баллом выше 90 : ['Charlie']['Anna']"
     ]
    }
   ],
   "source": [
    "# 2024.02.05 HW 15\n",
    "'''\n",
    "1. Напишите функцию, которая принимает список кортежей от пользователя, \n",
    "где каждый кортеж содержит информацию о студенте (имя, возраст, средний балл). \n",
    "Программа должна вывести на экран имена студентов, \n",
    "чей средний балл выше заданного значения. \n",
    "Используйте методы кортежей и циклы для обработки данных.\n",
    "Выведите итоговый список на экран с помощью команды print.\n",
    "Пример списка кортежей:\n",
    "[(\"Alice\", 20, 90), (\"Bob\", 19, 80), (\"Charlie\", 21, 95), (\"David\", 18, 85)]\n",
    "Пример вывода: Введите пороговое значение среднего балла: 90\n",
    "Студенты с средним баллом выше 90 : ['Charlie']'''\n",
    "\n",
    "def func():\n",
    "    List = []\n",
    "    for line in open('students15.txt'):    \n",
    "        List.append( tuple(line.split(', ')) )\n",
    "    print(f'Список кортежей: {List} ')\n",
    "\n",
    "    print(f'Студенты с средним баллом выше 90 : ', end='')\n",
    "    for el in List:    \n",
    "        if int(el[2]) > 90:       \n",
    "           print([el[0]], end='')\n",
    "func()\n"
   ]
  },
  {
   "cell_type": "code",
   "execution_count": 2,
   "metadata": {},
   "outputs": [
    {
     "name": "stdout",
     "output_type": "stream",
     "text": [
      "(16, 3, 9, 1, 7)\n"
     ]
    }
   ],
   "source": [
    "'''\n",
    "2. Напишите программу, которая принимает строку от пользователя и \n",
    "разбивает ее на отдельные слова. Затем программа должна создать новый кортеж, \n",
    "содержащий длину каждого слова в исходной строке. \n",
    "Используйте методы строк и кортежей для обработки данных.\n",
    "Пример вывода:\n",
    "Введите предложение: Программирование это интересно и полезно\n",
    "Длины слов в предложении: (15, 3, 8, 2, 6)'''\n",
    "\n",
    "def func(list):    \n",
    "    return tuple([len(word) for word in list ]) \n",
    "\n",
    "string = input('Введите предложение:').split()\n",
    "print(func(string))\n"
   ]
  }
 ],
 "metadata": {
  "kernelspec": {
   "display_name": "Python 3",
   "language": "python",
   "name": "python3"
  },
  "language_info": {
   "codemirror_mode": {
    "name": "ipython",
    "version": 3
   },
   "file_extension": ".py",
   "mimetype": "text/x-python",
   "name": "python",
   "nbconvert_exporter": "python",
   "pygments_lexer": "ipython3",
   "version": "3.10.12"
  }
 },
 "nbformat": 4,
 "nbformat_minor": 2
}
