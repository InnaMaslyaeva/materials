{
 "cells": [
  {
   "cell_type": "code",
   "execution_count": 7,
   "metadata": {},
   "outputs": [
    {
     "name": "stdout",
     "output_type": "stream",
     "text": [
      " ['ONE', 'EIGHT', 'ELEVEN'] \n"
     ]
    }
   ],
   "source": [
    "# 2024.03.28 HW 28\n",
    "''' 1 Напишите программу, которая принимает список слов от \n",
    "пользователя и использует генераторное выражение (comprehension) \n",
    "для создания нового списка, содержащего только те слова, \n",
    "которые начинаются с гласной буквы. Затем программа должна \n",
    "использовать функцию map, чтобы преобразовать каждое слово в \n",
    "верхний регистр. В результате программа должна вывести новый список, \n",
    "содержащий только слова, начинающиеся с гласной буквы и записанные \n",
    "в верхнем регистре.'''\n",
    "\n",
    "def func(words):\n",
    "    gen_words = [el for el in words if el[0] in 'aouei' ]\n",
    "    upp_words = list(map( lambda x: x.upper(), gen_words))\n",
    "    return upp_words\n",
    "\n",
    "words = ['one', 'two', 'three', 'four', 'eight', 'ten', 'eleven' ]\n",
    "\n",
    "print( f' {func(words)} ' )"
   ]
  },
  {
   "cell_type": "code",
   "execution_count": 9,
   "metadata": {},
   "outputs": [
    {
     "name": "stdout",
     "output_type": "stream",
     "text": [
      "41400000\n",
      "41400000\n"
     ]
    }
   ],
   "source": [
    "''' 2 Напишите программу, которая принимает список чисел от пользователя \n",
    "и использует функцию reduce из модуля functools, \n",
    "чтобы найти произведение всех чисел в списке. \n",
    "Затем программа должна использовать функцию itertools.accumulate \n",
    "для накопления произведений чисел в новом списке. В результате \n",
    "программа должна вывести список, содержащий накопленные произведения. '''\n",
    "\n",
    "from functools import reduce\n",
    "\n",
    "def fucn(numbers):\n",
    "    result = reduce( lambda x,y: x*y, numbers)\n",
    "    return result\n",
    "\n",
    "numbers = [5, 120, 75, 8, 115]  \n",
    "\n",
    "print( f' {fucn(numbers)} ' )\n",
    "print( 5*120*75*8*115 )"
   ]
  }
 ],
 "metadata": {
  "kernelspec": {
   "display_name": "Python 3",
   "language": "python",
   "name": "python3"
  },
  "language_info": {
   "codemirror_mode": {
    "name": "ipython",
    "version": 3
   },
   "file_extension": ".py",
   "mimetype": "text/x-python",
   "name": "python",
   "nbconvert_exporter": "python",
   "pygments_lexer": "ipython3",
   "version": "3.10.12"
  }
 },
 "nbformat": 4,
 "nbformat_minor": 2
}
