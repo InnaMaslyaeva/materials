{
 "cells": [
  {
   "cell_type": "code",
   "execution_count": 36,
   "metadata": {},
   "outputs": [
    {
     "name": "stdout",
     "output_type": "stream",
     "text": [
      "Введите числа для суммирования (0 для окончания): \n",
      "Текущая сумма: 0\n",
      "Текущая сумма: 3\n",
      "Текущая сумма: 8\n",
      "Текущая сумма: 10\n"
     ]
    }
   ],
   "source": [
    "# 2024.03.13 HW 24\n",
    "''' 1. Напишите генератор, который будет принимать на вход числа \n",
    "и возвращать их сумму. Генератор должен использовать инструкцию yield \n",
    "для возврата текущей суммы и должен продолжать принимать \n",
    "новые числа для добавления к сумме. Если генератор получает на вход \n",
    "число 0, он должен прекращать работу и вернуть окончательную сумму. \n",
    "Напишите программу, которая будет использовать этот генератор \n",
    "для пошагового расчета суммы чисел, вводимых пользователем.\n",
    "Пример вывода: Введите числа для суммирования (0 для окончания):\n",
    "Введите число: 3\n",
    "Текущая сумма: 3\n",
    "Введите число: 5\n",
    "Текущая сумма: 8\n",
    "Введите число: 2\n",
    "Текущая сумма: 10\n",
    "Введите число: 0\n",
    "Текущая сумма: 10'''\n",
    "def gen():\n",
    "    s = 0\n",
    "    while True:\n",
    "        print(f'Текущая сумма: {s}')\n",
    "        num = (yield s)        \n",
    "        s += num\n",
    "\n",
    "print(f'Введите числа для суммирования (0 для окончания): ')        \n",
    "number = gen()\n",
    "next(number)\n",
    "while True:\n",
    "    n = int(input('Введите число: '))\n",
    "    if n != 0:\n",
    "        number.send(n)\n",
    "    else:\n",
    "        break"
   ]
  },
  {
   "cell_type": "code",
   "execution_count": 4,
   "metadata": {},
   "outputs": [
    {
     "name": "stdout",
     "output_type": "stream",
     "text": [
      "3\n",
      "4\n",
      "5\n",
      "6\n",
      "7\n",
      "8\n",
      "9\n",
      "10\n",
      "11\n",
      "12\n"
     ]
    }
   ],
   "source": [
    "''' 2. Напишите генератор, который будет генерировать \n",
    "арифметическую прогрессию'''\n",
    "\n",
    "def mygenerator():\n",
    "    i = 1\n",
    "    while True:\n",
    "        yield i+2\n",
    "        i += 1\n",
    "\n",
    "gen = mygenerator()\n",
    "n = int(input())\n",
    "for i in range(n):\n",
    "   print(next(gen))"
   ]
  }
 ],
 "metadata": {
  "kernelspec": {
   "display_name": "Python 3",
   "language": "python",
   "name": "python3"
  },
  "language_info": {
   "codemirror_mode": {
    "name": "ipython",
    "version": 3
   },
   "file_extension": ".py",
   "mimetype": "text/x-python",
   "name": "python",
   "nbconvert_exporter": "python",
   "pygments_lexer": "ipython3",
   "version": "3.10.12"
  }
 },
 "nbformat": 4,
 "nbformat_minor": 2
}
