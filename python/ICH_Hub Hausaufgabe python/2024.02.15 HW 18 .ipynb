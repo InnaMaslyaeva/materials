{
 "cells": [
  {
   "cell_type": "code",
   "execution_count": 9,
   "metadata": {},
   "outputs": [
    {
     "name": "stdout",
     "output_type": "stream",
     "text": [
      " 5! = 120 \n"
     ]
    }
   ],
   "source": [
    "# 2024.02.15 HW 18\n",
    "''' 1 Написать программу, вычисляющую факториал числа.\n",
    "Решить задачу с помощью рекурсии.'''\n",
    "\n",
    "def factor( n ):\n",
    "    if n == 0 or n == 1: return 1\n",
    "    else: return factor( n - 1 ) * n \n",
    "\n",
    "n = int( input( 'Введите число: ' ) )\n",
    "print( f' {n}! = {factor(n)} ' )  \n"
   ]
  },
  {
   "cell_type": "code",
   "execution_count": 1,
   "metadata": {},
   "outputs": [
    {
     "name": "stdout",
     "output_type": "stream",
     "text": [
      " Сумма цифр числа 12345 равна 15 \n"
     ]
    }
   ],
   "source": [
    "'''2 Напишите программу, которая использует рекурсию \n",
    "для вычисления суммы цифр числа. \n",
    "Создайте функцию sum_digits, которая принимает один аргумент - \n",
    "число, для которого нужно вычислить сумму цифр. \n",
    "Используйте условие выхода из рекурсии, \n",
    "когда число состоит из одной цифры. \n",
    "Выведите результат на экран.\n",
    "Пример вывода: Введите число: 12345\n",
    "Сумма цифр числа 12345 равна 15'''\n",
    "\n",
    "def summ( n ):\n",
    "    if n // 10 == 0: return n\n",
    "    else: return summ( n // 10 ) + n % 10\n",
    "\n",
    "n = int( input( 'Введите число: ' ) )\n",
    "print( f' Сумма цифр числа {n} равна {summ(n)} ' )  "
   ]
  }
 ],
 "metadata": {
  "kernelspec": {
   "display_name": "Python 3",
   "language": "python",
   "name": "python3"
  },
  "language_info": {
   "codemirror_mode": {
    "name": "ipython",
    "version": 3
   },
   "file_extension": ".py",
   "mimetype": "text/x-python",
   "name": "python",
   "nbconvert_exporter": "python",
   "pygments_lexer": "ipython3",
   "version": "3.10.12"
  }
 },
 "nbformat": 4,
 "nbformat_minor": 2
}
