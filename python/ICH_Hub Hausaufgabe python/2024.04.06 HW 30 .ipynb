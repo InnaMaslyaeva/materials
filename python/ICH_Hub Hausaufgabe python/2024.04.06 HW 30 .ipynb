{
 "cells": [
  {
   "cell_type": "code",
   "execution_count": 16,
   "metadata": {},
   "outputs": [
    {
     "name": "stdout",
     "output_type": "stream",
     "text": [
      "5 6\n",
      "35\n",
      "24\n",
      "Class: Rectangle self.width=7 self.height=8\n",
      " Rectangle oblect: name= self.width=7 self.height=8\n"
     ]
    }
   ],
   "source": [
    "# 2024.04.06 HW 30\n",
    "\n",
    "''' 1. Создайте класс Rectangle для представления прямоугольника. \n",
    "Класс должен иметь атрибуты width (ширина) и height (высота) \n",
    "со значениями по умолчанию, а также методы calculate_area() \n",
    "для вычисления площади прямоугольника и calculate_perimeter() \n",
    "для вычисления периметра прямоугольника. \n",
    "Переопределить методы __str__, __repr__.\n",
    "Затем создайте экземпляр класса Rectangle и выведите информацию о нем,\n",
    "его площадь и периметр. '''\n",
    "\n",
    "class Rectangle():\n",
    "        \n",
    "    def __init__(self, width, height):\n",
    "        self.width = width\n",
    "        self.height = height\n",
    "\n",
    "    def calculate_area(self, width, height):\n",
    "        return width * height\n",
    "    \n",
    "    def calculate_perimeter(self, width, height):\n",
    "        return (width + height) * 2\n",
    "\n",
    "    def __str__(self ):   \n",
    "         return f'Class: Rectangle {self.width=} {self.height=}' \n",
    "    \n",
    "    def __repr__(self):\n",
    "        return f' Rectangle oblect: name= {self.width=} {self.height=}'\n",
    "\n",
    "rectangle = Rectangle(5, 6)\n",
    "print( rectangle.width, rectangle.height)\n",
    "\n",
    "print( rectangle.calculate_area(5,7) )\n",
    "print( rectangle.calculate_perimeter(5, 7) )\n",
    "\n",
    "rectangle = Rectangle(7, 8)\n",
    "print( rectangle )\n",
    "\n",
    "print(repr(rectangle))"
   ]
  },
  {
   "cell_type": "code",
   "execution_count": 32,
   "metadata": {},
   "outputs": [
    {
     "name": "stdout",
     "output_type": "stream",
     "text": [
      " Create  account: DE4001 8796 2005 7804, 0  \n",
      " account: DE4001 8796 2005 7804, 100 \n",
      " account: DE4001 8796 2005 7804, 50 \n",
      " Insufficient funds in the account: DE4001 8796 2005 7804, 50 \n"
     ]
    }
   ],
   "source": [
    "''' 2. Создайте класс BankAccount для представления банковского счета. \n",
    "Класс должен иметь атрибуты account_number (номер счета) и balance (баланс),\n",
    " а также методы deposit() для внесения денег на счет и withdraw() \n",
    " для снятия денег со счета. Затем создайте экземпляр класса BankAccount, \n",
    " внесите на счет некоторую сумму и снимите часть денег. \n",
    " Выведите оставшийся баланс. Не забудьте предусмотреть вариант, \n",
    " при котором при снятии баланс может стать меньше нуля. \n",
    " В этом случае уходить в минус не будем, вместо чего будем \n",
    " возвращать сообщение \"Недостаточно средств на счете\". '''\n",
    "\n",
    "class BankAccount:\n",
    "    def __init__( self, account_number, balance ):\n",
    "        self.account_number = account_number\n",
    "        self.balance = balance\n",
    "\n",
    "    def __str__( self ):\n",
    "        return  f' account: {self.account_number}, {self.balance } '    \n",
    "\n",
    "    def  deposit( self, summa ):\n",
    "        self.balance = self.balance + summa        \n",
    "        \n",
    "    def  withdraw( self, summa ):\n",
    "        if self.balance > summa:\n",
    "            self.balance = self.balance - summa\n",
    "        else:\n",
    "            print( f' Insufficient funds in the', end=\"\" )\n",
    "            \n",
    "# create account\n",
    "account =  BankAccount( \"DE4001 8796 2005 7804\", 0 )  \n",
    "#print( account.account_number, account.balance ) \n",
    "print( f' Create {account} ' )\n",
    "# deposit money\n",
    "account.deposit( 100 )\n",
    "print( account )\n",
    "# # withdraw money\n",
    "account.withdraw( 50 )\n",
    "print( account )\n",
    "# # withdraw money\n",
    "account.withdraw( 100 )\n",
    "print( account )"
   ]
  }
 ],
 "metadata": {
  "kernelspec": {
   "display_name": "Python 3",
   "language": "python",
   "name": "python3"
  },
  "language_info": {
   "codemirror_mode": {
    "name": "ipython",
    "version": 3
   },
   "file_extension": ".py",
   "mimetype": "text/x-python",
   "name": "python",
   "nbconvert_exporter": "python",
   "pygments_lexer": "ipython3",
   "version": "3.10.12"
  }
 },
 "nbformat": 4,
 "nbformat_minor": 2
}
