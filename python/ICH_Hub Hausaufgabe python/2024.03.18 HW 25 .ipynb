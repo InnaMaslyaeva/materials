{
 "cells": [
  {
   "cell_type": "code",
   "execution_count": 3,
   "metadata": {},
   "outputs": [
    {
     "name": "stdout",
     "output_type": "stream",
     "text": [
      "dragonfruit\n"
     ]
    }
   ],
   "source": [
    "# 2024.03.18 HW 25\n",
    "''' 1. Напишите функцию find_longest_word, которая будет \n",
    "принимать список слов и возвращать самое длинное слово из списка.\n",
    "Аннотируйте типы аргументов и возвращаемого значения функции.\n",
    "Пример вызова функции и ожидаемого вывода:\n",
    "words = [\"apple\", \"banana\", \"cherry\", \"dragonfruit\"]\n",
    "result = find_longest_word(words)\n",
    "print(result) # Ожидаемый вывод: \"dragonfruit\" '''\n",
    "# решение 1\n",
    "from typing import List, Iterable\n",
    "\n",
    "def find_longest_word(slist: List[str]) -> Iterable[int]:\n",
    "    slist.sort(key = len, reverse = True)\n",
    "    return slist[0]    \n",
    "\n",
    "words = [\"apple\", \"banana\", \"cherry\", \"dragonfruit\"]\n",
    "result = find_longest_word(words)\n",
    "print(result) # Ожидаемый вывод: \"dragonfruit\""
   ]
  },
  {
   "cell_type": "code",
   "execution_count": 31,
   "metadata": {},
   "outputs": [
    {
     "name": "stdout",
     "output_type": "stream",
     "text": [
      " - apple \n",
      " - banana \n",
      " - banana \n",
      " - dragonfruit \n",
      " - dragonfruit \n",
      " summary: dragonfruit\n"
     ]
    }
   ],
   "source": [
    "# решение 2\n",
    "def gen_str(words):\n",
    "    imax = words[0]\n",
    "    for s in words:        \n",
    "        if len(s) > len(imax):\n",
    "            imax = s           \n",
    "            yield s\n",
    "        else:\n",
    "            yield imax        \n",
    "               \n",
    "wordsr = [\"apple\", \"banana\", \"cherry\", \"dragonfruit\", \"pear\"]\n",
    "for result in gen_str(words):\n",
    "    print(f' - {result} ' )   \n",
    "print(f' summary: {result}')    "
   ]
  },
  {
   "cell_type": "code",
   "execution_count": 117,
   "metadata": {},
   "outputs": [
    {
     "name": "stdout",
     "output_type": "stream",
     "text": [
      " \n",
      " result= [['Apple', 1.5, 10], ['Banana', 0.75, 15], ['Grape', 2.0, 5], ['Pear', 1.8, 4]] \n"
     ]
    }
   ],
   "source": [
    "'''2. a. Напишите программу, которая будет считывать данные о продуктах из файла и\n",
    "использовать аннотации типов для аргументов и возвращаемых значений функций.\n",
    "Создайте текстовый файл \"products.txt\", в котором каждая строка будет содержать\n",
    "информацию о продукте в формате \"название, цена, количество\".\n",
    "Пример:\n",
    "Apple, 1.50, 10\n",
    "Banana, 0.75, 15''' \n",
    "\n",
    "from typing import List, Dict, Union\n",
    "\n",
    "def get_fruits(line: str) -> list[ str, float, int ]: \n",
    "    data_list = line.split(', ')  \n",
    "    data_list[1] = float(data_list[1])\n",
    "    data_list[2] = int(data_list[2])\n",
    "    #print(f' {data_list=} ')    \n",
    "    return data_list\n",
    "\n",
    "f = open('fruits .txt')\n",
    "result = []\n",
    "for line in f: \n",
    "    res = get_fruits(line)\n",
    "    result.append(res)    \n",
    "\n",
    "print ( f' \\n {result= } ' )"
   ]
  },
  {
   "cell_type": "code",
   "execution_count": 124,
   "metadata": {},
   "outputs": [
    {
     "name": "stdout",
     "output_type": "stream",
     "text": [
      " \n",
      " result= [['Apple', 1.5, 10], ['Banana', 0.75, 15], ['Grape', 2.0, 5], ['Pear', 1.8, 4]] \n",
      " Общая стоимость продуктов: 43.45 \n"
     ]
    }
   ],
   "source": [
    "''' 2. \n",
    "b. В программе определите функцию calculate_total_price, которая будет принимать\n",
    "список продуктов и возвращать общую стоимость.\n",
    "c. Продумайте, какая аннотация должна быть у аргумента.\n",
    "d. Считайте данные из файла, разделите строки на составляющие и создайте список\n",
    "продуктов.\n",
    "e. Вызовите функцию calculate_total_price с этим списком и  выведите результат. '''\n",
    "\n",
    "from typing import List, Dict, Union\n",
    "\n",
    "def get_fruits(line: str) -> list[ str, float, int ]: \n",
    "    data_list = line.split(', ')  \n",
    "    data_list[1] = float(data_list[1])\n",
    "    data_list[2] = int(data_list[2])    \n",
    "    return data_list\n",
    "\n",
    "def calculate_total_price(data_list: list) -> float:      \n",
    "    return sum( [el[1] * el[2]  for el in data_list] )\n",
    "\n",
    "f = open('fruits .txt')\n",
    "\n",
    "result = []\n",
    "for line in f: \n",
    "    res = get_fruits(line)\n",
    "    result.append(res)\n",
    "print ( f' \\n {result= } ' )\n",
    "\n",
    "print( f' Общая стоимость продуктов: {calculate_total_price(result)} ' )"
   ]
  }
 ],
 "metadata": {
  "kernelspec": {
   "display_name": "Python 3",
   "language": "python",
   "name": "python3"
  },
  "language_info": {
   "codemirror_mode": {
    "name": "ipython",
    "version": 3
   },
   "file_extension": ".py",
   "mimetype": "text/x-python",
   "name": "python",
   "nbconvert_exporter": "python",
   "pygments_lexer": "ipython3",
   "version": "3.10.12"
  }
 },
 "nbformat": 4,
 "nbformat_minor": 2
}
