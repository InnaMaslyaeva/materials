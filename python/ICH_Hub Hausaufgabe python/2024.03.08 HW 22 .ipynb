{
 "cells": [
  {
   "cell_type": "code",
   "execution_count": 33,
   "metadata": {},
   "outputs": [
    {
     "name": "stdout",
     "output_type": "stream",
     "text": [
      " number1= 10 number2= -4 \n"
     ]
    },
    {
     "ename": "ValueError",
     "evalue": "Число должно быть положительным.",
     "output_type": "error",
     "traceback": [
      "\u001b[0;31m---------------------------------------------------------------------------\u001b[0m",
      "\u001b[0;31mValueError\u001b[0m                                Traceback (most recent call last)",
      "Cell \u001b[0;32mIn[33], line 22\u001b[0m\n\u001b[1;32m     19\u001b[0m         result \u001b[38;5;241m=\u001b[39m number1 \u001b[38;5;241m/\u001b[39m number2\n\u001b[1;32m     20\u001b[0m         \u001b[38;5;28mprint\u001b[39m( \u001b[38;5;124mf\u001b[39m\u001b[38;5;124m'\u001b[39m\u001b[38;5;124m \u001b[39m\u001b[38;5;132;01m{\u001b[39;00mresult\u001b[38;5;132;01m= }\u001b[39;00m\u001b[38;5;124m \u001b[39m\u001b[38;5;124m'\u001b[39m )      \n\u001b[0;32m---> 22\u001b[0m \u001b[43mfunc\u001b[49m\u001b[43m(\u001b[49m\u001b[43m)\u001b[49m\n",
      "Cell \u001b[0;32mIn[33], line 17\u001b[0m, in \u001b[0;36mfunc\u001b[0;34m()\u001b[0m\n\u001b[1;32m     14\u001b[0m \u001b[38;5;28mprint\u001b[39m( \u001b[38;5;124mf\u001b[39m\u001b[38;5;124m'\u001b[39m\u001b[38;5;124m \u001b[39m\u001b[38;5;132;01m{\u001b[39;00mnumber1\u001b[38;5;132;01m= }\u001b[39;00m\u001b[38;5;124m \u001b[39m\u001b[38;5;132;01m{\u001b[39;00mnumber2\u001b[38;5;132;01m= }\u001b[39;00m\u001b[38;5;124m \u001b[39m\u001b[38;5;124m'\u001b[39m ) \n\u001b[1;32m     16\u001b[0m \u001b[38;5;28;01mif\u001b[39;00m number1 \u001b[38;5;241m<\u001b[39m \u001b[38;5;241m0\u001b[39m \u001b[38;5;129;01mor\u001b[39;00m number2 \u001b[38;5;241m<\u001b[39m \u001b[38;5;241m0\u001b[39m:\n\u001b[0;32m---> 17\u001b[0m     \u001b[38;5;28;01mraise\u001b[39;00m \u001b[38;5;167;01mValueError\u001b[39;00m(\u001b[38;5;124m'\u001b[39m\u001b[38;5;124mЧисло должно быть положительным.\u001b[39m\u001b[38;5;124m'\u001b[39m)\n\u001b[1;32m     18\u001b[0m \u001b[38;5;28;01melse\u001b[39;00m:    \n\u001b[1;32m     19\u001b[0m     result \u001b[38;5;241m=\u001b[39m number1 \u001b[38;5;241m/\u001b[39m number2\n",
      "\u001b[0;31mValueError\u001b[0m: Число должно быть положительным."
     ]
    }
   ],
   "source": [
    "# 2024.03.08 HW 22\n",
    "\n",
    "''' 1. Напишите программу, которая открывает файл, \n",
    "считывает из него два числа и выполняет операцию их деления. \n",
    "Если число отрицательное, выбросите исключение ValueError \n",
    "с сообщением \"Число должно быть положительным\". \n",
    "Обработайте исключение и выведите соответствующее сообщение.'''\n",
    "def func():\n",
    "    f = open('data2numbers.txt')  \n",
    "    number1, number2 = map(int, f.readline().split())\n",
    "    #print( f' {number1= } {number2= } ' ) \n",
    "    if number1 < 0 or number2 < 0:\n",
    "        raise ValueError('Число должно быть положительным.')\n",
    "    else:    \n",
    "        result = number1 / number2\n",
    "        print( f' {result= } ' )      \n",
    "func()"
   ]
  },
  {
   "cell_type": "code",
   "execution_count": 30,
   "metadata": {},
   "outputs": [
    {
     "name": "stdout",
     "output_type": "stream",
     "text": [
      "Error: Number conversion - not integer.\n"
     ]
    }
   ],
   "source": [
    "'''2. Напишите программу, которая открывает файл, \n",
    "считывает его содержимое и выполняет операции над числами в файле. \n",
    "Обработайте возможные исключения при открытии файла (FileNotFoundError) \n",
    "и при выполнении операций над числами (ValueError, ZeroDivisionError). \n",
    "Используйте конструкцию try-except-finally для обработки исключений \n",
    "и закрытия файла в блоке finally.'''\n",
    "try:\n",
    "    f = open('data2numbers.txt') \n",
    "except FileNotFoundError: \n",
    "    print(f'Error: No such file or directory!')  \n",
    "  \n",
    "else:\n",
    "    try:        \n",
    "        string = f.readline()        \n",
    "    except:\n",
    "        print(f'Error: File not readable - only writable!') \n",
    "\n",
    "    else:             \n",
    "        try:\n",
    "            number1, number2 = map(int, string.split())\n",
    "        except ValueError:\n",
    "            print(f'Error: Number conversion - not integer.')\n",
    "        else:  \n",
    "            try:          \n",
    "                result = number1 / number2\n",
    "            except ZeroDivisionError: \n",
    "                print(f'Error: Division be Zero.')     \n",
    "            else:\n",
    "                print( f' {result= } ' )     \n",
    "    finally:\n",
    "        f.close()            "
   ]
  }
 ],
 "metadata": {
  "kernelspec": {
   "display_name": "Python 3",
   "language": "python",
   "name": "python3"
  },
  "language_info": {
   "codemirror_mode": {
    "name": "ipython",
    "version": 3
   },
   "file_extension": ".py",
   "mimetype": "text/x-python",
   "name": "python",
   "nbconvert_exporter": "python",
   "pygments_lexer": "ipython3",
   "version": "3.10.12"
  }
 },
 "nbformat": 4,
 "nbformat_minor": 2
}
